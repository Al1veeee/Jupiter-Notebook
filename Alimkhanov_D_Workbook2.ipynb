{
  "cells": [
    {
      "cell_type": "markdown",
      "metadata": {
        "id": "view-in-github",
        "colab_type": "text"
      },
      "source": [
        "<a href=\"https://colab.research.google.com/github/Al1veeee/Notebook-python-/blob/main/Alimkhanov_D_Workbook2.ipynb\" target=\"_parent\"><img src=\"https://colab.research.google.com/assets/colab-badge.svg\" alt=\"Open In Colab\"/></a>"
      ]
    },
    {
      "cell_type": "markdown",
      "id": "86744afd",
      "metadata": {
        "id": "86744afd"
      },
      "source": [
        "<h1> РАБОЧАЯ ТЕТРАДЬ 2</h1>\n",
        "<h2> Алимханов Дени ИКБО-68-23</h2>\n",
        "<h1>1.1. Теоретический материал – Библиотека NumPy</h1>\n",
        "<p>NumPy (NumericalPython) - это библиотека Python с открытым\n",
        "исходным кодом, которая используется практически во всех областях науки\n",
        "и техники. Это универсальный стандарт для работы с числовыми данными в\n",
        "Python. </br>\n",
        "Если у вас уже есть Python, вы можете установить NumPy с помощью\n",
        "командной строки:</br>\n",
        " pip install numpy</br>\n",
        "Чтобы начать использовать NumPy необходимо импортировать\n",
        "соответствующую библиотеку:</br>\n",
        " import numpy as np</br>\n",
        "Основным объектом NumPy является однородный многомерный\n",
        "массив (в numpy называется numpy.ndarray). Это многомерный массив\n",
        "элементов (обычно чисел), одного типа.</br>\n",
        "Наиболее важные атрибуты объектов ndarray:</br>\n",
        "ndarray.ndim - число измерений (чаще их называют \"оси\") массива.</br>\n",
        "ndarray.shape - размеры массива, его форма. Это кортеж натуральных\n",
        "чисел, показывающий длину массива по каждой оси. Для матрицы из n строк\n",
        "и m столбов, shape будет (n,m). Число элементов кортежа shape равно ndim.</br>\n",
        "ndarray.size - количество элементов массива. Очевидно, равно\n",
        "произведению всех элементов атрибута shape.</br>\n",
        "ndarray.dtype - объект, описывающий тип элементов массива. Можно\n",
        "определить dtype, используя стандартные типы данных Python. NumPy здесь\n",
        "предоставляет целый букет возможностей, как встроенных, например: bool_,\n",
        "character, int8, int16, int32, int64, float8, float16, float32, float64, complex64,\n",
        "object_, так и возможность определить собственные типы данных, в том\n",
        "числе и составные.</br>\n",
        "ndarray.itemsize - размер каждого элемента массива в байтах.</br>\n",
        "ndarray.data - буфер, содержащий фактические элементы массива.</br>\n",
        "Обычно не нужно использовать этот атрибут, так как обращаться к\n",
        "элементам массива проще всего с помощью индексов.</br>\n",
        "Подробнее о массивах в NumPy можно найти в официальной\n",
        "документации https://numpy.org/doc/stable/user/absolute_beginners.html\n",
        "</p>\n",
        "<h1>1.2.1 Пример </h1>\n",
        "<p>Создать массив 5x2. Создать массив 5x2. Вывести все значения массива,\n",
        "значение элемента с индексом (3,1) и второй столбец. Индексация\n",
        "начинается с нуля.</p>"
      ]
    },
    {
      "cell_type": "code",
      "execution_count": null,
      "id": "2ea3ef12",
      "metadata": {
        "id": "2ea3ef12",
        "outputId": "6fe98a40-8576-4073-e421-585e0391e0a4"
      },
      "outputs": [
        {
          "name": "stdout",
          "output_type": "stream",
          "text": [
            "[[ 1  2]\n",
            " [ 3  4]\n",
            " [ 5  6]\n",
            " [ 7  8]\n",
            " [ 9 10]]\n",
            "8\n",
            "[3 4]\n"
          ]
        }
      ],
      "source": [
        "import numpy as np\n",
        "x = np.array([[1,2],[3,4],[5,6],[7,8],[9,10]])\n",
        "print (x)\n",
        "print (x[3][1])\n",
        "print (x[1])"
      ]
    },
    {
      "cell_type": "markdown",
      "id": "4737b160",
      "metadata": {
        "id": "4737b160"
      },
      "source": [
        "<h1> 1.2.2 Пример </h1>\n",
        "<p>Пример. Выполнить следующее: </br>\n",
        "1. Создать вектор (одномерный массив) размера 10, заполненный\n",
        "нулями.</br>\n",
        "2. Создать вектор размера 10, заполненный единицами.</br>\n",
        "3. Создать вектор размера 10, заполненный заданным числом.</br>\n",
        "4. Создать вектор со значениями от 10 до 19.</p>"
      ]
    },
    {
      "cell_type": "code",
      "execution_count": null,
      "id": "5290be7c",
      "metadata": {
        "id": "5290be7c",
        "outputId": "270b9202-701a-4290-b4bd-2ee457d8a179"
      },
      "outputs": [
        {
          "name": "stdout",
          "output_type": "stream",
          "text": [
            "[0. 0. 0. 0. 0. 0. 0. 0. 0. 0.] \n",
            " [1. 1. 1. 1. 1. 1. 1. 1. 1. 1.] \n",
            " [5 5 5 5 5 5 5 5 5 5] \n",
            " [10 11 12 13 14 15 16 17 18 19]\n"
          ]
        }
      ],
      "source": [
        "import numpy as np\n",
        "a = np.zeros(10)\n",
        "b = np.ones(10)\n",
        "c = np.full(10,5)\n",
        "d = np.arange(10,20)\n",
        "print(a, \"\\n\", b, \"\\n\", c, \"\\n\", d)"
      ]
    },
    {
      "cell_type": "markdown",
      "id": "43d5b91c",
      "metadata": {
        "id": "43d5b91c"
      },
      "source": [
        "<h1>1.2.3 Пример</h1>\n",
        "<p>Создать массив 10x10 со случайными значениями, найти минимум, максимум и среднее значение.</p>"
      ]
    },
    {
      "cell_type": "code",
      "execution_count": null,
      "id": "fcf7a08b",
      "metadata": {
        "id": "fcf7a08b",
        "outputId": "9dba70d9-ebd9-4ed5-8e37-4537e664ce3f"
      },
      "outputs": [
        {
          "name": "stdout",
          "output_type": "stream",
          "text": [
            "0.030348213048374206 0.9860381867647092 0.506646662425408\n"
          ]
        }
      ],
      "source": [
        "import numpy as np\n",
        "Z = np.random.random((10,10))\n",
        "Zmin, Zmax, Zmean = Z.min(),Z.max(),Z.mean()\n",
        "print(Zmin, Zmax, Zmean)"
      ]
    },
    {
      "cell_type": "markdown",
      "id": "1dd830ad",
      "metadata": {
        "id": "1dd830ad"
      },
      "source": [
        "<h1>1.2.4 Пример </h1>\n",
        "<p>Задать матрицу размерности 5 на 5 и поменять 2 строки в матрице местами.</p>"
      ]
    },
    {
      "cell_type": "code",
      "execution_count": null,
      "id": "1ccd1697",
      "metadata": {
        "id": "1ccd1697",
        "outputId": "0c84d30a-c180-413c-ee7b-fb921c679115"
      },
      "outputs": [
        {
          "name": "stdout",
          "output_type": "stream",
          "text": [
            "[[ 5  6  7  8  9]\n",
            " [ 0  1  2  3  4]\n",
            " [10 11 12 13 14]\n",
            " [15 16 17 18 19]\n",
            " [20 21 22 23 24]]\n"
          ]
        }
      ],
      "source": [
        "import numpy as np\n",
        "A = np.arange(25).reshape(5,5)\n",
        "A[[0,1]] = A[[1,0]]\n",
        "print(A)"
      ]
    },
    {
      "cell_type": "markdown",
      "id": "8e8d3c17",
      "metadata": {
        "id": "8e8d3c17"
      },
      "source": [
        "<h1>1.2.5 Пример </h1>\n",
        "<p>Выяснить результат следующих выражений: </br>\n",
        "0 * np.nan</br>\n",
        "np.nan == np.nan</br>\n",
        "np.inf > np.nan</br>\n",
        "np.nan - np.nan</br>\n",
        "0.3 == 3 * 0.1</p>"
      ]
    },
    {
      "cell_type": "code",
      "execution_count": null,
      "id": "1f71acc7",
      "metadata": {
        "id": "1f71acc7",
        "outputId": "f8bf527a-d254-4fd7-d505-3303ad8385b3"
      },
      "outputs": [
        {
          "name": "stdout",
          "output_type": "stream",
          "text": [
            "nan\n",
            "False\n",
            "False\n",
            "nan\n",
            "False\n"
          ]
        }
      ],
      "source": [
        "import numpy as np\n",
        "print(0 * np.nan)\n",
        "print(np.nan == np.nan)\n",
        "print(np.inf > np.nan)\n",
        "print(np.nan - np.nan)\n",
        "print(0.3 == 3*0.1)"
      ]
    },
    {
      "cell_type": "markdown",
      "id": "1cbe9432",
      "metadata": {
        "id": "1cbe9432"
      },
      "source": [
        "<h1>1.2.6 Пример </h1>\n",
        "<p>Отсортировать массив</p>"
      ]
    },
    {
      "cell_type": "code",
      "execution_count": null,
      "id": "4b72f8c5",
      "metadata": {
        "id": "4b72f8c5",
        "outputId": "c76f1f8d-a78c-46c3-9402-3dde187e8883"
      },
      "outputs": [
        {
          "name": "stdout",
          "output_type": "stream",
          "text": [
            "[1 2 3 4 5 6 7 8]\n"
          ]
        }
      ],
      "source": [
        "import numpy as np\n",
        "arr = np.array ([2,1,5,3,7,4,6,8])\n",
        "print(np.sort(arr))"
      ]
    },
    {
      "cell_type": "markdown",
      "id": "e521c1ec",
      "metadata": {
        "id": "e521c1ec"
      },
      "source": [
        "<h1>1.3.1 Задание</h1>\n",
        "<p>Создать 8x8 матрицу и заполнить её в шахматном порядке нулями и единицами.</p>"
      ]
    },
    {
      "cell_type": "code",
      "execution_count": null,
      "id": "79fe72d8",
      "metadata": {
        "id": "79fe72d8",
        "outputId": "aa34e045-75a8-411b-f592-a1f9c99adf98"
      },
      "outputs": [
        {
          "name": "stdout",
          "output_type": "stream",
          "text": [
            "[[0 1 0 1 0 1 0 1]\n",
            " [1 0 1 0 1 0 1 0]\n",
            " [0 1 0 1 0 1 0 1]\n",
            " [1 0 1 0 1 0 1 0]\n",
            " [0 1 0 1 0 1 0 1]\n",
            " [1 0 1 0 1 0 1 0]\n",
            " [0 1 0 1 0 1 0 1]\n",
            " [1 0 1 0 1 0 1 0]]\n"
          ]
        }
      ],
      "source": [
        "import numpy as np\n",
        "A = np.zeros((8,8), dtype=int)\n",
        "A[1::2,::2] = 1\n",
        "A[::2,1::2] = 1\n",
        "print(A)"
      ]
    },
    {
      "cell_type": "markdown",
      "id": "b9233afd",
      "metadata": {
        "id": "b9233afd"
      },
      "source": [
        "<h1>1.3.2 Задание</h1>\n",
        "<p>Создать 5x5 матрицу со значениями в строках от 0 до 4.</p>"
      ]
    },
    {
      "cell_type": "code",
      "execution_count": null,
      "id": "fc1a35af",
      "metadata": {
        "scrolled": true,
        "id": "fc1a35af",
        "outputId": "02d5de55-a560-4443-f937-c4223c87d454"
      },
      "outputs": [
        {
          "name": "stdout",
          "output_type": "stream",
          "text": [
            "[[0 1 2 3 4]\n",
            " [0 1 2 3 4]\n",
            " [0 1 2 3 4]\n",
            " [0 1 2 3 4]\n",
            " [0 1 2 3 4]]\n"
          ]
        }
      ],
      "source": [
        "import numpy as np\n",
        "A = np.zeros((5,5), dtype=int)\n",
        "A += np.arange(5)\n",
        "print(A)"
      ]
    },
    {
      "cell_type": "markdown",
      "id": "868daeb9",
      "metadata": {
        "id": "868daeb9"
      },
      "source": [
        "<h1>1.3.3 Задание</h1>\n",
        "<p>Создать массив 3x3x3 со случайными значениями.</p>"
      ]
    },
    {
      "cell_type": "code",
      "execution_count": null,
      "id": "2b65359a",
      "metadata": {
        "scrolled": true,
        "id": "2b65359a",
        "outputId": "81b97bb6-249d-4064-ff9c-e402dccaca18"
      },
      "outputs": [
        {
          "name": "stdout",
          "output_type": "stream",
          "text": [
            "[[[0.22276218 0.30523741 0.27514458]\n",
            "  [0.42997277 0.9923198  0.0425786 ]\n",
            "  [0.29785735 0.31664267 0.50703285]]\n",
            "\n",
            " [[0.23370509 0.92949103 0.19411883]\n",
            "  [0.09502712 0.28391101 0.92530912]\n",
            "  [0.93689671 0.05929806 0.67841251]]\n",
            "\n",
            " [[0.80921487 0.79950413 0.29880361]\n",
            "  [0.9760213  0.02157457 0.91196447]\n",
            "  [0.56253925 0.50409317 0.61210408]]]\n"
          ]
        }
      ],
      "source": [
        "import numpy as np\n",
        "Z = np.random.random((3,3,3))\n",
        "print(Z)"
      ]
    },
    {
      "cell_type": "markdown",
      "id": "b243d53b",
      "metadata": {
        "id": "b243d53b"
      },
      "source": [
        "<h1>1.3.4 Задание</h1>\n",
        "<p>Создать матрицу с 0 внутри, и 1 на границах.</p>"
      ]
    },
    {
      "cell_type": "code",
      "execution_count": null,
      "id": "ef6e01c2",
      "metadata": {
        "id": "ef6e01c2",
        "outputId": "778aa0b5-3536-4262-e718-7595b9a149a6"
      },
      "outputs": [
        {
          "name": "stdout",
          "output_type": "stream",
          "text": [
            "[[1 1 1 1 1]\n",
            " [1 0 0 0 1]\n",
            " [1 0 0 0 1]\n",
            " [1 0 0 0 1]\n",
            " [1 1 1 1 1]]\n"
          ]
        }
      ],
      "source": [
        "import numpy as np\n",
        "A = np.ones((5,5), dtype=int)\n",
        "A[1:-1,1:-1] = 0\n",
        "print(A)"
      ]
    },
    {
      "cell_type": "markdown",
      "id": "121a0890",
      "metadata": {
        "id": "121a0890"
      },
      "source": [
        "<h1>1.3.5 Задание</h1>\n",
        "<p>Создайте массив и отсортируйте его по убыванию.</p>"
      ]
    },
    {
      "cell_type": "code",
      "execution_count": null,
      "id": "a2987074",
      "metadata": {
        "scrolled": true,
        "id": "a2987074",
        "outputId": "d841abb5-72d1-4552-9438-d13ae542c1e1"
      },
      "outputs": [
        {
          "name": "stdout",
          "output_type": "stream",
          "text": [
            "[5.1, 4.1, 3.8, 3.4, 2.2, 1.0]\n"
          ]
        }
      ],
      "source": [
        "A = [3.4, 5.1, 2.2, 4.1, 1.0, 3.8]\n",
        "\n",
        "A.sort(reverse=True)\n",
        "print(A)"
      ]
    },
    {
      "cell_type": "markdown",
      "id": "16f0267a",
      "metadata": {
        "id": "16f0267a"
      },
      "source": [
        "<h1>1.3.6 Задание</h1>\n",
        "<p>Создайте матрицу, выведите ее форму, размер и размерность.</p>"
      ]
    },
    {
      "cell_type": "code",
      "execution_count": null,
      "id": "3306aa59",
      "metadata": {
        "scrolled": true,
        "id": "3306aa59",
        "outputId": "dd7235cd-0eeb-4f16-8b06-ed36e575af7c"
      },
      "outputs": [
        {
          "name": "stdout",
          "output_type": "stream",
          "text": [
            "Размерность - 5\n",
            "Форма - (5, 5)\n",
            "Размер - 25\n",
            "Размерность - 2\n"
          ]
        }
      ],
      "source": [
        "import numpy as np\n",
        "size = int(input(\"Размерность - \"))\n",
        "A = np.random.random((size,size))\n",
        "print(\"Форма -\",A.shape)\n",
        "print(\"Размер -\",A.size)\n",
        "print(\"Размерность -\",A.ndim)"
      ]
    },
    {
      "cell_type": "markdown",
      "id": "380ac16e",
      "metadata": {
        "id": "380ac16e"
      },
      "source": [
        "<h1>2.1. Теоретический материал – Библиотека Pandas</h1>\n",
        "<p>Первым шагом в любом начинании в области машинного обучения\n",
        "является введение исходных данных в систему. Исходные данные могут\n",
        "вводиться вручную, содержаться в файле или храниться в интернете в какомлибо формате. Кроме того, часто требуется получить данные из нескольких\n",
        "источников. </br>\n",
        "Библиотека pandas – это удобный и быстрый инструмент для работы\n",
        "с данными, обладающий большим функционалом. Если очень кратко, то\n",
        "pandas – это библиотека, которая предоставляет очень удобные с точки\n",
        "зрения использования инструменты для хранения данных и работе с ними.\n",
        "Библиотека pandas присутствует в стандартной поставке Anaconda.\n",
        "Если же ее там нет, то его можно установить отдельно. Для этого введите\n",
        "командной строке: </br>\n",
        " pip install pandas</br>\n",
        "Для импорта библиотеки используйте команду:</br>\n",
        "import pandas as pd</br>\n",
        "Библиотека pandas предоставляет две ключевые структуры данных:</br>\n",
        "Series и DataFrame.</br>\n",
        "Series – это одномерная структура данных, ее можно представить, как\n",
        "таблицу с одной строкой. С Series можно работать как с обычным массивом\n",
        "(обращаться по номеру индекса), и как с ассоциированным массивом, когда\n",
        "можно использовать ключ для доступа к элементам данных.</br>\n",
        "DataFrame – это двумерная структура. Идейно она очень похожа на\n",
        "обычную таблицу, что выражается в способе ее создания и работе с ее\n",
        "элементами</p></br>\n",
        "<h1>2.2.1 Пример</h1>\n",
        "<p>Создать Series из списка Python, словаря Python, и массива Numpy (установить буквенные метки для последнего). </p>"
      ]
    },
    {
      "cell_type": "code",
      "execution_count": null,
      "id": "6f6d14ad",
      "metadata": {
        "scrolled": true,
        "id": "6f6d14ad",
        "outputId": "38071adc-055d-437a-d666-f3d337e04a97"
      },
      "outputs": [
        {
          "name": "stdout",
          "output_type": "stream",
          "text": [
            "0    1\n",
            "1    2\n",
            "2    3\n",
            "3    4\n",
            "4    5\n",
            "dtype: int64\n",
            "a    1\n",
            "b    2\n",
            "c    3\n",
            "dtype: int64\n",
            "a    1\n",
            "b    2\n",
            "c    3\n",
            "d    4\n",
            "e    5\n",
            "dtype: int32\n"
          ]
        }
      ],
      "source": [
        "import pandas as pd\n",
        "lst = [1, 2, 3, 4, 5]\n",
        "d = {'a':1, 'b':2, 'c':3}\n",
        "ndarr = np.array([1, 2, 3, 4, 5])\n",
        "\n",
        "s1 = pd.Series(lst)\n",
        "s2 = pd.Series(d)\n",
        "s3 = pd.Series(ndarr, ['a', 'b', 'c', 'd', 'e'])\n",
        "\n",
        "print(s1)\n",
        "print(s2)\n",
        "print(s3)"
      ]
    },
    {
      "cell_type": "markdown",
      "id": "e4cd8d5d",
      "metadata": {
        "id": "e4cd8d5d"
      },
      "source": [
        "<h1>2.2.2 Пример</h1>\n",
        "<p>Дано два Series. Напечатать их первые элементы и все элементы после третьего (во втором фрейме).</p>"
      ]
    },
    {
      "cell_type": "code",
      "execution_count": null,
      "id": "e07356ac",
      "metadata": {
        "id": "e07356ac",
        "outputId": "61a4cfd0-55bd-47ce-d2ef-a4a684b7ce16"
      },
      "outputs": [
        {
          "name": "stdout",
          "output_type": "stream",
          "text": [
            "1\n",
            "5\n",
            "3    2\n",
            "4    1\n",
            "dtype: int64\n"
          ]
        }
      ],
      "source": [
        "import pandas as pd\n",
        "s1 = pd.Series([1, 2, 3, 4, 5], ['a', 'b', 'c', 'd', 'e'])\n",
        "s2 = pd.Series([5, 4, 3, 2, 1])\n",
        "print(s1['a'])\n",
        "print(s2[0])\n",
        "print(s2[3:])"
      ]
    },
    {
      "cell_type": "markdown",
      "id": "ff4401c0",
      "metadata": {
        "id": "ff4401c0"
      },
      "source": [
        "<h1>2.2.3 Пример </h1>\n",
        "<p>Создайте новый фрейм данных.</p>"
      ]
    },
    {
      "cell_type": "code",
      "execution_count": null,
      "id": "ec3976ec",
      "metadata": {
        "id": "ec3976ec",
        "outputId": "126a4dde-a994-4d59-ef94-95e09ccedc0a"
      },
      "outputs": [
        {
          "data": {
            "text/html": [
              "<div>\n",
              "<style scoped>\n",
              "    .dataframe tbody tr th:only-of-type {\n",
              "        vertical-align: middle;\n",
              "    }\n",
              "\n",
              "    .dataframe tbody tr th {\n",
              "        vertical-align: top;\n",
              "    }\n",
              "\n",
              "    .dataframe thead th {\n",
              "        text-align: right;\n",
              "    }\n",
              "</style>\n",
              "<table border=\"1\" class=\"dataframe\">\n",
              "  <thead>\n",
              "    <tr style=\"text-align: right;\">\n",
              "      <th></th>\n",
              "      <th>Имя</th>\n",
              "      <th>Возраст</th>\n",
              "      <th>Водитель</th>\n",
              "    </tr>\n",
              "  </thead>\n",
              "  <tbody>\n",
              "    <tr>\n",
              "      <th>0</th>\n",
              "      <td>Джеки Джексон</td>\n",
              "      <td>38</td>\n",
              "      <td>True</td>\n",
              "    </tr>\n",
              "    <tr>\n",
              "      <th>1</th>\n",
              "      <td>Стивен Стивенсон</td>\n",
              "      <td>25</td>\n",
              "      <td>False</td>\n",
              "    </tr>\n",
              "  </tbody>\n",
              "</table>\n",
              "</div>"
            ],
            "text/plain": [
              "                Имя  Возраст  Водитель\n",
              "0     Джеки Джексон       38      True\n",
              "1  Стивен Стивенсон       25     False"
            ]
          },
          "execution_count": 47,
          "metadata": {},
          "output_type": "execute_result"
        }
      ],
      "source": [
        "import pandas as pd\n",
        "dataframe = pd.DataFrame()\n",
        "dataframe['Имя'] = ['Джеки Джексон', 'Стивен Стивенсон']\n",
        "dataframe['Возраст'] = [38, 25]\n",
        "dataframe['Водитель'] = [True, False]\n",
        "dataframe"
      ]
    },
    {
      "cell_type": "markdown",
      "id": "c3c1f71e",
      "metadata": {
        "id": "c3c1f71e"
      },
      "source": [
        "<h1>2.2.4 Пример</h1>\n",
        "<p>Загрузите фрейм данных по ссылке:\n",
        "https://raw.githubusercontent.com/chrisalbon/simulated_datasets/master/titan\n",
        "ic.csv</p>"
      ]
    },
    {
      "cell_type": "code",
      "execution_count": null,
      "id": "0b202ef3",
      "metadata": {
        "id": "0b202ef3",
        "outputId": "da826089-2b1d-4080-94a6-dbe5902d2516"
      },
      "outputs": [
        {
          "data": {
            "text/html": [
              "<div>\n",
              "<style scoped>\n",
              "    .dataframe tbody tr th:only-of-type {\n",
              "        vertical-align: middle;\n",
              "    }\n",
              "\n",
              "    .dataframe tbody tr th {\n",
              "        vertical-align: top;\n",
              "    }\n",
              "\n",
              "    .dataframe thead th {\n",
              "        text-align: right;\n",
              "    }\n",
              "</style>\n",
              "<table border=\"1\" class=\"dataframe\">\n",
              "  <thead>\n",
              "    <tr style=\"text-align: right;\">\n",
              "      <th></th>\n",
              "      <th>Name</th>\n",
              "      <th>PClass</th>\n",
              "      <th>Age</th>\n",
              "      <th>Sex</th>\n",
              "      <th>Survived</th>\n",
              "      <th>SexCode</th>\n",
              "    </tr>\n",
              "  </thead>\n",
              "  <tbody>\n",
              "    <tr>\n",
              "      <th>0</th>\n",
              "      <td>Allen, Miss Elisabeth Walton</td>\n",
              "      <td>1st</td>\n",
              "      <td>29.00</td>\n",
              "      <td>female</td>\n",
              "      <td>1</td>\n",
              "      <td>1</td>\n",
              "    </tr>\n",
              "    <tr>\n",
              "      <th>1</th>\n",
              "      <td>Allison, Miss Helen Loraine</td>\n",
              "      <td>1st</td>\n",
              "      <td>2.00</td>\n",
              "      <td>female</td>\n",
              "      <td>0</td>\n",
              "      <td>1</td>\n",
              "    </tr>\n",
              "    <tr>\n",
              "      <th>2</th>\n",
              "      <td>Allison, Mr Hudson Joshua Creighton</td>\n",
              "      <td>1st</td>\n",
              "      <td>30.00</td>\n",
              "      <td>male</td>\n",
              "      <td>0</td>\n",
              "      <td>0</td>\n",
              "    </tr>\n",
              "    <tr>\n",
              "      <th>3</th>\n",
              "      <td>Allison, Mrs Hudson JC (Bessie Waldo Daniels)</td>\n",
              "      <td>1st</td>\n",
              "      <td>25.00</td>\n",
              "      <td>female</td>\n",
              "      <td>0</td>\n",
              "      <td>1</td>\n",
              "    </tr>\n",
              "    <tr>\n",
              "      <th>4</th>\n",
              "      <td>Allison, Master Hudson Trevor</td>\n",
              "      <td>1st</td>\n",
              "      <td>0.92</td>\n",
              "      <td>male</td>\n",
              "      <td>1</td>\n",
              "      <td>0</td>\n",
              "    </tr>\n",
              "  </tbody>\n",
              "</table>\n",
              "</div>"
            ],
            "text/plain": [
              "                                            Name PClass    Age     Sex  \\\n",
              "0                   Allen, Miss Elisabeth Walton    1st  29.00  female   \n",
              "1                    Allison, Miss Helen Loraine    1st   2.00  female   \n",
              "2            Allison, Mr Hudson Joshua Creighton    1st  30.00    male   \n",
              "3  Allison, Mrs Hudson JC (Bessie Waldo Daniels)    1st  25.00  female   \n",
              "4                  Allison, Master Hudson Trevor    1st   0.92    male   \n",
              "\n",
              "   Survived  SexCode  \n",
              "0         1        1  \n",
              "1         0        1  \n",
              "2         0        0  \n",
              "3         0        1  \n",
              "4         1        0  "
            ]
          },
          "execution_count": 48,
          "metadata": {},
          "output_type": "execute_result"
        }
      ],
      "source": [
        "import pandas as pd\n",
        "url = 'https://raw.githubusercontent.com/chrisalbon/simulated_datasets/master/titanic.csv'\n",
        "dataframe = pd.read_csv(url) #Загрузить данные\n",
        "dataframe.head(5) #Показать пять строк"
      ]
    },
    {
      "cell_type": "markdown",
      "id": "ec2dc174",
      "metadata": {
        "id": "ec2dc174"
      },
      "source": [
        "<h1> 2.2.5 Пример </h1>\n",
        "<p>Пронализировать характеристики фрейма данных.</p>"
      ]
    },
    {
      "cell_type": "code",
      "execution_count": null,
      "id": "9b8062d1",
      "metadata": {
        "id": "9b8062d1",
        "outputId": "32822c1b-b85a-4441-ee05-6fe983935e59"
      },
      "outputs": [
        {
          "data": {
            "text/html": [
              "<div>\n",
              "<style scoped>\n",
              "    .dataframe tbody tr th:only-of-type {\n",
              "        vertical-align: middle;\n",
              "    }\n",
              "\n",
              "    .dataframe tbody tr th {\n",
              "        vertical-align: top;\n",
              "    }\n",
              "\n",
              "    .dataframe thead th {\n",
              "        text-align: right;\n",
              "    }\n",
              "</style>\n",
              "<table border=\"1\" class=\"dataframe\">\n",
              "  <thead>\n",
              "    <tr style=\"text-align: right;\">\n",
              "      <th></th>\n",
              "      <th>Name</th>\n",
              "      <th>PClass</th>\n",
              "      <th>Age</th>\n",
              "      <th>Sex</th>\n",
              "      <th>Survived</th>\n",
              "      <th>SexCode</th>\n",
              "    </tr>\n",
              "  </thead>\n",
              "  <tbody>\n",
              "    <tr>\n",
              "      <th>0</th>\n",
              "      <td>Allen, Miss Elisabeth Walton</td>\n",
              "      <td>1st</td>\n",
              "      <td>29.00</td>\n",
              "      <td>female</td>\n",
              "      <td>1</td>\n",
              "      <td>1</td>\n",
              "    </tr>\n",
              "    <tr>\n",
              "      <th>1</th>\n",
              "      <td>Allison, Miss Helen Loraine</td>\n",
              "      <td>1st</td>\n",
              "      <td>2.00</td>\n",
              "      <td>female</td>\n",
              "      <td>0</td>\n",
              "      <td>1</td>\n",
              "    </tr>\n",
              "    <tr>\n",
              "      <th>2</th>\n",
              "      <td>Allison, Mr Hudson Joshua Creighton</td>\n",
              "      <td>1st</td>\n",
              "      <td>30.00</td>\n",
              "      <td>male</td>\n",
              "      <td>0</td>\n",
              "      <td>0</td>\n",
              "    </tr>\n",
              "    <tr>\n",
              "      <th>3</th>\n",
              "      <td>Allison, Mrs Hudson JC (Bessie Waldo Daniels)</td>\n",
              "      <td>1st</td>\n",
              "      <td>25.00</td>\n",
              "      <td>female</td>\n",
              "      <td>0</td>\n",
              "      <td>1</td>\n",
              "    </tr>\n",
              "    <tr>\n",
              "      <th>4</th>\n",
              "      <td>Allison, Master Hudson Trevor</td>\n",
              "      <td>1st</td>\n",
              "      <td>0.92</td>\n",
              "      <td>male</td>\n",
              "      <td>1</td>\n",
              "      <td>0</td>\n",
              "    </tr>\n",
              "  </tbody>\n",
              "</table>\n",
              "</div>"
            ],
            "text/plain": [
              "                                            Name PClass    Age     Sex  \\\n",
              "0                   Allen, Miss Elisabeth Walton    1st  29.00  female   \n",
              "1                    Allison, Miss Helen Loraine    1st   2.00  female   \n",
              "2            Allison, Mr Hudson Joshua Creighton    1st  30.00    male   \n",
              "3  Allison, Mrs Hudson JC (Bessie Waldo Daniels)    1st  25.00  female   \n",
              "4                  Allison, Master Hudson Trevor    1st   0.92    male   \n",
              "\n",
              "   Survived  SexCode  \n",
              "0         1        1  \n",
              "1         0        1  \n",
              "2         0        0  \n",
              "3         0        1  \n",
              "4         1        0  "
            ]
          },
          "metadata": {},
          "output_type": "display_data"
        },
        {
          "data": {
            "text/html": [
              "<div>\n",
              "<style scoped>\n",
              "    .dataframe tbody tr th:only-of-type {\n",
              "        vertical-align: middle;\n",
              "    }\n",
              "\n",
              "    .dataframe tbody tr th {\n",
              "        vertical-align: top;\n",
              "    }\n",
              "\n",
              "    .dataframe thead th {\n",
              "        text-align: right;\n",
              "    }\n",
              "</style>\n",
              "<table border=\"1\" class=\"dataframe\">\n",
              "  <thead>\n",
              "    <tr style=\"text-align: right;\">\n",
              "      <th></th>\n",
              "      <th>Name</th>\n",
              "      <th>PClass</th>\n",
              "      <th>Age</th>\n",
              "      <th>Sex</th>\n",
              "      <th>Survived</th>\n",
              "      <th>SexCode</th>\n",
              "    </tr>\n",
              "  </thead>\n",
              "  <tbody>\n",
              "    <tr>\n",
              "      <th>1310</th>\n",
              "      <td>Zenni, Mr Philip</td>\n",
              "      <td>3rd</td>\n",
              "      <td>22.0</td>\n",
              "      <td>male</td>\n",
              "      <td>0</td>\n",
              "      <td>0</td>\n",
              "    </tr>\n",
              "    <tr>\n",
              "      <th>1311</th>\n",
              "      <td>Lievens, Mr Rene</td>\n",
              "      <td>3rd</td>\n",
              "      <td>24.0</td>\n",
              "      <td>male</td>\n",
              "      <td>0</td>\n",
              "      <td>0</td>\n",
              "    </tr>\n",
              "    <tr>\n",
              "      <th>1312</th>\n",
              "      <td>Zimmerman, Leo</td>\n",
              "      <td>3rd</td>\n",
              "      <td>29.0</td>\n",
              "      <td>male</td>\n",
              "      <td>0</td>\n",
              "      <td>0</td>\n",
              "    </tr>\n",
              "  </tbody>\n",
              "</table>\n",
              "</div>"
            ],
            "text/plain": [
              "                  Name PClass   Age   Sex  Survived  SexCode\n",
              "1310  Zenni, Mr Philip    3rd  22.0  male         0        0\n",
              "1311  Lievens, Mr Rene    3rd  24.0  male         0        0\n",
              "1312    Zimmerman, Leo    3rd  29.0  male         0        0"
            ]
          },
          "metadata": {},
          "output_type": "display_data"
        },
        {
          "data": {
            "text/plain": [
              "(1313, 6)"
            ]
          },
          "metadata": {},
          "output_type": "display_data"
        },
        {
          "data": {
            "text/html": [
              "<div>\n",
              "<style scoped>\n",
              "    .dataframe tbody tr th:only-of-type {\n",
              "        vertical-align: middle;\n",
              "    }\n",
              "\n",
              "    .dataframe tbody tr th {\n",
              "        vertical-align: top;\n",
              "    }\n",
              "\n",
              "    .dataframe thead th {\n",
              "        text-align: right;\n",
              "    }\n",
              "</style>\n",
              "<table border=\"1\" class=\"dataframe\">\n",
              "  <thead>\n",
              "    <tr style=\"text-align: right;\">\n",
              "      <th></th>\n",
              "      <th>Age</th>\n",
              "      <th>Survived</th>\n",
              "      <th>SexCode</th>\n",
              "    </tr>\n",
              "  </thead>\n",
              "  <tbody>\n",
              "    <tr>\n",
              "      <th>count</th>\n",
              "      <td>756.000000</td>\n",
              "      <td>1313.000000</td>\n",
              "      <td>1313.000000</td>\n",
              "    </tr>\n",
              "    <tr>\n",
              "      <th>mean</th>\n",
              "      <td>30.397989</td>\n",
              "      <td>0.342727</td>\n",
              "      <td>0.351866</td>\n",
              "    </tr>\n",
              "    <tr>\n",
              "      <th>std</th>\n",
              "      <td>14.259049</td>\n",
              "      <td>0.474802</td>\n",
              "      <td>0.477734</td>\n",
              "    </tr>\n",
              "    <tr>\n",
              "      <th>min</th>\n",
              "      <td>0.170000</td>\n",
              "      <td>0.000000</td>\n",
              "      <td>0.000000</td>\n",
              "    </tr>\n",
              "    <tr>\n",
              "      <th>25%</th>\n",
              "      <td>21.000000</td>\n",
              "      <td>0.000000</td>\n",
              "      <td>0.000000</td>\n",
              "    </tr>\n",
              "    <tr>\n",
              "      <th>50%</th>\n",
              "      <td>28.000000</td>\n",
              "      <td>0.000000</td>\n",
              "      <td>0.000000</td>\n",
              "    </tr>\n",
              "    <tr>\n",
              "      <th>75%</th>\n",
              "      <td>39.000000</td>\n",
              "      <td>1.000000</td>\n",
              "      <td>1.000000</td>\n",
              "    </tr>\n",
              "    <tr>\n",
              "      <th>max</th>\n",
              "      <td>71.000000</td>\n",
              "      <td>1.000000</td>\n",
              "      <td>1.000000</td>\n",
              "    </tr>\n",
              "  </tbody>\n",
              "</table>\n",
              "</div>"
            ],
            "text/plain": [
              "              Age     Survived      SexCode\n",
              "count  756.000000  1313.000000  1313.000000\n",
              "mean    30.397989     0.342727     0.351866\n",
              "std     14.259049     0.474802     0.477734\n",
              "min      0.170000     0.000000     0.000000\n",
              "25%     21.000000     0.000000     0.000000\n",
              "50%     28.000000     0.000000     0.000000\n",
              "75%     39.000000     1.000000     1.000000\n",
              "max     71.000000     1.000000     1.000000"
            ]
          },
          "metadata": {},
          "output_type": "display_data"
        }
      ],
      "source": [
        "import pandas as pd\n",
        "url = 'https://raw.githubusercontent.com/chrisalbon/simulated_datasets/master/titanic.csv'\n",
        "dataframe = pd.read_csv(url)\n",
        "display(dataframe.head(5))\n",
        "display(dataframe.tail(3))\n",
        "display(dataframe.shape)\n",
        "display(dataframe.describe())"
      ]
    },
    {
      "cell_type": "markdown",
      "id": "c8557593",
      "metadata": {
        "id": "c8557593"
      },
      "source": [
        "<h1>2.2.6 Пример</h1>\n",
        "<p>Выберите индивидуальные данные или срезы фрейма данных.</p>"
      ]
    },
    {
      "cell_type": "code",
      "execution_count": null,
      "id": "cc04392f",
      "metadata": {
        "id": "cc04392f",
        "outputId": "2bd70994-8d25-4dc9-9ac1-2c7f4b157e69"
      },
      "outputs": [
        {
          "data": {
            "text/html": [
              "<div>\n",
              "<style scoped>\n",
              "    .dataframe tbody tr th:only-of-type {\n",
              "        vertical-align: middle;\n",
              "    }\n",
              "\n",
              "    .dataframe tbody tr th {\n",
              "        vertical-align: top;\n",
              "    }\n",
              "\n",
              "    .dataframe thead th {\n",
              "        text-align: right;\n",
              "    }\n",
              "</style>\n",
              "<table border=\"1\" class=\"dataframe\">\n",
              "  <thead>\n",
              "    <tr style=\"text-align: right;\">\n",
              "      <th></th>\n",
              "      <th>Name</th>\n",
              "      <th>PClass</th>\n",
              "      <th>Age</th>\n",
              "      <th>Sex</th>\n",
              "      <th>Survived</th>\n",
              "      <th>SexCode</th>\n",
              "    </tr>\n",
              "  </thead>\n",
              "  <tbody>\n",
              "    <tr>\n",
              "      <th>1</th>\n",
              "      <td>Allison, Miss Helen Loraine</td>\n",
              "      <td>1st</td>\n",
              "      <td>2.0</td>\n",
              "      <td>female</td>\n",
              "      <td>0</td>\n",
              "      <td>1</td>\n",
              "    </tr>\n",
              "    <tr>\n",
              "      <th>2</th>\n",
              "      <td>Allison, Mr Hudson Joshua Creighton</td>\n",
              "      <td>1st</td>\n",
              "      <td>30.0</td>\n",
              "      <td>male</td>\n",
              "      <td>0</td>\n",
              "      <td>0</td>\n",
              "    </tr>\n",
              "    <tr>\n",
              "      <th>3</th>\n",
              "      <td>Allison, Mrs Hudson JC (Bessie Waldo Daniels)</td>\n",
              "      <td>1st</td>\n",
              "      <td>25.0</td>\n",
              "      <td>female</td>\n",
              "      <td>0</td>\n",
              "      <td>1</td>\n",
              "    </tr>\n",
              "  </tbody>\n",
              "</table>\n",
              "</div>"
            ],
            "text/plain": [
              "                                            Name PClass   Age     Sex  \\\n",
              "1                    Allison, Miss Helen Loraine    1st   2.0  female   \n",
              "2            Allison, Mr Hudson Joshua Creighton    1st  30.0    male   \n",
              "3  Allison, Mrs Hudson JC (Bessie Waldo Daniels)    1st  25.0  female   \n",
              "\n",
              "   Survived  SexCode  \n",
              "1         0        1  \n",
              "2         0        0  \n",
              "3         0        1  "
            ]
          },
          "execution_count": 50,
          "metadata": {},
          "output_type": "execute_result"
        }
      ],
      "source": [
        "import pandas as pd\n",
        "url = 'https://raw.githubusercontent.com/chrisalbon/simulated_datasets/master/titanic.csv'\n",
        "dataframe = pd.read_csv(url)\n",
        "dataframe.iloc[1:4]"
      ]
    },
    {
      "cell_type": "markdown",
      "id": "0a2e7e67",
      "metadata": {
        "id": "0a2e7e67"
      },
      "source": [
        "<h1> 2.2.7 Пример </h1>\n",
        "<p>Требуется отобрать строки фрейма данных на основе некоторого\n",
        "условия. Необходимо сформировать новый фрейм данных из пассажиров\n",
        "первого класса.</p>"
      ]
    },
    {
      "cell_type": "code",
      "execution_count": null,
      "id": "270a1b97",
      "metadata": {
        "id": "270a1b97",
        "outputId": "ca4e88fa-94dd-41fc-f0dc-d5d9ee28746e"
      },
      "outputs": [
        {
          "data": {
            "text/html": [
              "<div>\n",
              "<style scoped>\n",
              "    .dataframe tbody tr th:only-of-type {\n",
              "        vertical-align: middle;\n",
              "    }\n",
              "\n",
              "    .dataframe tbody tr th {\n",
              "        vertical-align: top;\n",
              "    }\n",
              "\n",
              "    .dataframe thead th {\n",
              "        text-align: right;\n",
              "    }\n",
              "</style>\n",
              "<table border=\"1\" class=\"dataframe\">\n",
              "  <thead>\n",
              "    <tr style=\"text-align: right;\">\n",
              "      <th></th>\n",
              "      <th>Name</th>\n",
              "      <th>PClass</th>\n",
              "      <th>Age</th>\n",
              "      <th>Sex</th>\n",
              "      <th>Survived</th>\n",
              "      <th>SexCode</th>\n",
              "    </tr>\n",
              "  </thead>\n",
              "  <tbody>\n",
              "    <tr>\n",
              "      <th>0</th>\n",
              "      <td>Allen, Miss Elisabeth Walton</td>\n",
              "      <td>1st</td>\n",
              "      <td>29.0</td>\n",
              "      <td>female</td>\n",
              "      <td>1</td>\n",
              "      <td>1</td>\n",
              "    </tr>\n",
              "    <tr>\n",
              "      <th>1</th>\n",
              "      <td>Allison, Miss Helen Loraine</td>\n",
              "      <td>1st</td>\n",
              "      <td>2.0</td>\n",
              "      <td>female</td>\n",
              "      <td>0</td>\n",
              "      <td>1</td>\n",
              "    </tr>\n",
              "  </tbody>\n",
              "</table>\n",
              "</div>"
            ],
            "text/plain": [
              "                           Name PClass   Age     Sex  Survived  SexCode\n",
              "0  Allen, Miss Elisabeth Walton    1st  29.0  female         1        1\n",
              "1   Allison, Miss Helen Loraine    1st   2.0  female         0        1"
            ]
          },
          "execution_count": 51,
          "metadata": {},
          "output_type": "execute_result"
        }
      ],
      "source": [
        "import pandas as pd\n",
        "url = 'https://raw.githubusercontent.com/chrisalbon/simulated_datasets/master/titanic.csv'\n",
        "dataframe = pd.read_csv(url)\n",
        "dataframe[dataframe['PClass'] == '1st'].head(2)"
      ]
    },
    {
      "cell_type": "markdown",
      "id": "79992800",
      "metadata": {
        "id": "79992800"
      },
      "source": [
        "<h1>2.3.1 Задание</h1>\n",
        "<p>Найдитe евклидово расстояние между двумя Series (точками) a и b, не\n",
        "используя встроенную формулу.</p>"
      ]
    },
    {
      "cell_type": "code",
      "execution_count": null,
      "id": "9ab1fd53",
      "metadata": {
        "id": "9ab1fd53",
        "outputId": "a9cf4403-5d62-4f79-cb57-b313d6453c8e"
      },
      "outputs": [
        {
          "name": "stdout",
          "output_type": "stream",
          "text": [
            "Координаты точки a\n",
            "x = 1\n",
            "y = 1\n",
            "Координаты точки b\n",
            "\n",
            "x = 3\n",
            "y = 3\n",
            "2.8284271247461903\n"
          ]
        }
      ],
      "source": [
        "import pandas as pd\n",
        "import numpy as np\n",
        "print(\"Координаты точки a\")\n",
        "a1 = int(input(\"x = \"))\n",
        "b1 = int(input(\"y = \"))\n",
        "print(\"Координаты точки b\\n\")\n",
        "a2 = int(input(\"x = \"))\n",
        "b2 = int(input(\"y = \"))\n",
        "ab = pd.Series([a1, b1, a2, b2])\n",
        "print(np.sqrt((ab[0]-ab[2])**2 + (ab[1] - ab[3])**2))"
      ]
    },
    {
      "cell_type": "markdown",
      "id": "7a8f7467",
      "metadata": {
        "id": "7a8f7467"
      },
      "source": [
        "<h1> 2.3.2 Задание </h1>\n",
        "<p>Найдите в Интернете ссылку на любой csv файл и сформируйте из него\n",
        "фрейм данных (например, коллекцию фреймов данных можно найти\n",
        "здесь: https://github.com/akmand/datasets).\n",
        "</p>"
      ]
    },
    {
      "cell_type": "code",
      "execution_count": null,
      "id": "4cd60114",
      "metadata": {
        "id": "4cd60114",
        "outputId": "a901f365-41d6-486a-dae1-a4b244196280"
      },
      "outputs": [
        {
          "data": {
            "text/html": [
              "<div>\n",
              "<style scoped>\n",
              "    .dataframe tbody tr th:only-of-type {\n",
              "        vertical-align: middle;\n",
              "    }\n",
              "\n",
              "    .dataframe tbody tr th {\n",
              "        vertical-align: top;\n",
              "    }\n",
              "\n",
              "    .dataframe thead th {\n",
              "        text-align: right;\n",
              "    }\n",
              "</style>\n",
              "<table border=\"1\" class=\"dataframe\">\n",
              "  <thead>\n",
              "    <tr style=\"text-align: right;\">\n",
              "      <th></th>\n",
              "      <th>sepal_length_cm</th>\n",
              "      <th>sepal_width_cm</th>\n",
              "      <th>petal_length_cm</th>\n",
              "      <th>petal_width_cm</th>\n",
              "      <th>species</th>\n",
              "    </tr>\n",
              "  </thead>\n",
              "  <tbody>\n",
              "    <tr>\n",
              "      <th>0</th>\n",
              "      <td>5.1</td>\n",
              "      <td>3.5</td>\n",
              "      <td>1.4</td>\n",
              "      <td>0.2</td>\n",
              "      <td>setosa</td>\n",
              "    </tr>\n",
              "    <tr>\n",
              "      <th>1</th>\n",
              "      <td>4.9</td>\n",
              "      <td>3.0</td>\n",
              "      <td>1.4</td>\n",
              "      <td>0.2</td>\n",
              "      <td>setosa</td>\n",
              "    </tr>\n",
              "    <tr>\n",
              "      <th>2</th>\n",
              "      <td>4.7</td>\n",
              "      <td>3.2</td>\n",
              "      <td>1.3</td>\n",
              "      <td>0.2</td>\n",
              "      <td>setosa</td>\n",
              "    </tr>\n",
              "    <tr>\n",
              "      <th>3</th>\n",
              "      <td>4.6</td>\n",
              "      <td>3.1</td>\n",
              "      <td>1.5</td>\n",
              "      <td>0.2</td>\n",
              "      <td>setosa</td>\n",
              "    </tr>\n",
              "    <tr>\n",
              "      <th>4</th>\n",
              "      <td>5.0</td>\n",
              "      <td>3.6</td>\n",
              "      <td>1.4</td>\n",
              "      <td>0.2</td>\n",
              "      <td>setosa</td>\n",
              "    </tr>\n",
              "    <tr>\n",
              "      <th>...</th>\n",
              "      <td>...</td>\n",
              "      <td>...</td>\n",
              "      <td>...</td>\n",
              "      <td>...</td>\n",
              "      <td>...</td>\n",
              "    </tr>\n",
              "    <tr>\n",
              "      <th>145</th>\n",
              "      <td>6.7</td>\n",
              "      <td>3.0</td>\n",
              "      <td>5.2</td>\n",
              "      <td>2.3</td>\n",
              "      <td>virginica</td>\n",
              "    </tr>\n",
              "    <tr>\n",
              "      <th>146</th>\n",
              "      <td>6.3</td>\n",
              "      <td>2.5</td>\n",
              "      <td>5.0</td>\n",
              "      <td>1.9</td>\n",
              "      <td>virginica</td>\n",
              "    </tr>\n",
              "    <tr>\n",
              "      <th>147</th>\n",
              "      <td>6.5</td>\n",
              "      <td>3.0</td>\n",
              "      <td>5.2</td>\n",
              "      <td>2.0</td>\n",
              "      <td>virginica</td>\n",
              "    </tr>\n",
              "    <tr>\n",
              "      <th>148</th>\n",
              "      <td>6.2</td>\n",
              "      <td>3.4</td>\n",
              "      <td>5.4</td>\n",
              "      <td>2.3</td>\n",
              "      <td>virginica</td>\n",
              "    </tr>\n",
              "    <tr>\n",
              "      <th>149</th>\n",
              "      <td>5.9</td>\n",
              "      <td>3.0</td>\n",
              "      <td>5.1</td>\n",
              "      <td>1.8</td>\n",
              "      <td>virginica</td>\n",
              "    </tr>\n",
              "  </tbody>\n",
              "</table>\n",
              "<p>150 rows × 5 columns</p>\n",
              "</div>"
            ],
            "text/plain": [
              "     sepal_length_cm  sepal_width_cm  petal_length_cm  petal_width_cm  \\\n",
              "0                5.1             3.5              1.4             0.2   \n",
              "1                4.9             3.0              1.4             0.2   \n",
              "2                4.7             3.2              1.3             0.2   \n",
              "3                4.6             3.1              1.5             0.2   \n",
              "4                5.0             3.6              1.4             0.2   \n",
              "..               ...             ...              ...             ...   \n",
              "145              6.7             3.0              5.2             2.3   \n",
              "146              6.3             2.5              5.0             1.9   \n",
              "147              6.5             3.0              5.2             2.0   \n",
              "148              6.2             3.4              5.4             2.3   \n",
              "149              5.9             3.0              5.1             1.8   \n",
              "\n",
              "       species  \n",
              "0       setosa  \n",
              "1       setosa  \n",
              "2       setosa  \n",
              "3       setosa  \n",
              "4       setosa  \n",
              "..         ...  \n",
              "145  virginica  \n",
              "146  virginica  \n",
              "147  virginica  \n",
              "148  virginica  \n",
              "149  virginica  \n",
              "\n",
              "[150 rows x 5 columns]"
            ]
          },
          "execution_count": 53,
          "metadata": {},
          "output_type": "execute_result"
        }
      ],
      "source": [
        "import pandas as pd\n",
        "url = 'https://raw.githubusercontent.com/akmand/datasets/main/iris.csv'\n",
        "dataframe = pd.read_csv(url)\n",
        "dataframe"
      ]
    },
    {
      "cell_type": "markdown",
      "id": "b6456a6e",
      "metadata": {
        "id": "b6456a6e"
      },
      "source": [
        "<h1>2.3.3 Задание </h1>\n",
        "<p>Проделайте с получившемся из предыдущего задания фреймом данных\n",
        "те же действия, что и в примерах 2.2.5-2.2.7.</p>"
      ]
    },
    {
      "cell_type": "code",
      "execution_count": null,
      "id": "a4c1c11f",
      "metadata": {
        "id": "a4c1c11f",
        "outputId": "4ba27710-bbc6-4beb-db59-85607e2ecc48"
      },
      "outputs": [
        {
          "data": {
            "text/html": [
              "<div>\n",
              "<style scoped>\n",
              "    .dataframe tbody tr th:only-of-type {\n",
              "        vertical-align: middle;\n",
              "    }\n",
              "\n",
              "    .dataframe tbody tr th {\n",
              "        vertical-align: top;\n",
              "    }\n",
              "\n",
              "    .dataframe thead th {\n",
              "        text-align: right;\n",
              "    }\n",
              "</style>\n",
              "<table border=\"1\" class=\"dataframe\">\n",
              "  <thead>\n",
              "    <tr style=\"text-align: right;\">\n",
              "      <th></th>\n",
              "      <th>sepal_length_cm</th>\n",
              "      <th>sepal_width_cm</th>\n",
              "      <th>petal_length_cm</th>\n",
              "      <th>petal_width_cm</th>\n",
              "      <th>species</th>\n",
              "    </tr>\n",
              "  </thead>\n",
              "  <tbody>\n",
              "    <tr>\n",
              "      <th>0</th>\n",
              "      <td>5.1</td>\n",
              "      <td>3.5</td>\n",
              "      <td>1.4</td>\n",
              "      <td>0.2</td>\n",
              "      <td>setosa</td>\n",
              "    </tr>\n",
              "    <tr>\n",
              "      <th>1</th>\n",
              "      <td>4.9</td>\n",
              "      <td>3.0</td>\n",
              "      <td>1.4</td>\n",
              "      <td>0.2</td>\n",
              "      <td>setosa</td>\n",
              "    </tr>\n",
              "    <tr>\n",
              "      <th>2</th>\n",
              "      <td>4.7</td>\n",
              "      <td>3.2</td>\n",
              "      <td>1.3</td>\n",
              "      <td>0.2</td>\n",
              "      <td>setosa</td>\n",
              "    </tr>\n",
              "    <tr>\n",
              "      <th>3</th>\n",
              "      <td>4.6</td>\n",
              "      <td>3.1</td>\n",
              "      <td>1.5</td>\n",
              "      <td>0.2</td>\n",
              "      <td>setosa</td>\n",
              "    </tr>\n",
              "    <tr>\n",
              "      <th>4</th>\n",
              "      <td>5.0</td>\n",
              "      <td>3.6</td>\n",
              "      <td>1.4</td>\n",
              "      <td>0.2</td>\n",
              "      <td>setosa</td>\n",
              "    </tr>\n",
              "  </tbody>\n",
              "</table>\n",
              "</div>"
            ],
            "text/plain": [
              "   sepal_length_cm  sepal_width_cm  petal_length_cm  petal_width_cm species\n",
              "0              5.1             3.5              1.4             0.2  setosa\n",
              "1              4.9             3.0              1.4             0.2  setosa\n",
              "2              4.7             3.2              1.3             0.2  setosa\n",
              "3              4.6             3.1              1.5             0.2  setosa\n",
              "4              5.0             3.6              1.4             0.2  setosa"
            ]
          },
          "metadata": {},
          "output_type": "display_data"
        }
      ],
      "source": [
        "import pandas as pd\n",
        "url = 'https://raw.githubusercontent.com/akmand/datasets/main/iris.csv'\n",
        "dataframe = pd.read_csv(url)\n",
        "display(dataframe.head(5))"
      ]
    },
    {
      "cell_type": "code",
      "execution_count": null,
      "id": "73c92978",
      "metadata": {
        "id": "73c92978",
        "outputId": "14b7606d-c968-4a2b-d7e3-a2a76f833e5d"
      },
      "outputs": [
        {
          "data": {
            "text/html": [
              "<div>\n",
              "<style scoped>\n",
              "    .dataframe tbody tr th:only-of-type {\n",
              "        vertical-align: middle;\n",
              "    }\n",
              "\n",
              "    .dataframe tbody tr th {\n",
              "        vertical-align: top;\n",
              "    }\n",
              "\n",
              "    .dataframe thead th {\n",
              "        text-align: right;\n",
              "    }\n",
              "</style>\n",
              "<table border=\"1\" class=\"dataframe\">\n",
              "  <thead>\n",
              "    <tr style=\"text-align: right;\">\n",
              "      <th></th>\n",
              "      <th>sepal_length_cm</th>\n",
              "      <th>sepal_width_cm</th>\n",
              "      <th>petal_length_cm</th>\n",
              "      <th>petal_width_cm</th>\n",
              "      <th>species</th>\n",
              "    </tr>\n",
              "  </thead>\n",
              "  <tbody>\n",
              "    <tr>\n",
              "      <th>147</th>\n",
              "      <td>6.5</td>\n",
              "      <td>3.0</td>\n",
              "      <td>5.2</td>\n",
              "      <td>2.0</td>\n",
              "      <td>virginica</td>\n",
              "    </tr>\n",
              "    <tr>\n",
              "      <th>148</th>\n",
              "      <td>6.2</td>\n",
              "      <td>3.4</td>\n",
              "      <td>5.4</td>\n",
              "      <td>2.3</td>\n",
              "      <td>virginica</td>\n",
              "    </tr>\n",
              "    <tr>\n",
              "      <th>149</th>\n",
              "      <td>5.9</td>\n",
              "      <td>3.0</td>\n",
              "      <td>5.1</td>\n",
              "      <td>1.8</td>\n",
              "      <td>virginica</td>\n",
              "    </tr>\n",
              "  </tbody>\n",
              "</table>\n",
              "</div>"
            ],
            "text/plain": [
              "     sepal_length_cm  sepal_width_cm  petal_length_cm  petal_width_cm  \\\n",
              "147              6.5             3.0              5.2             2.0   \n",
              "148              6.2             3.4              5.4             2.3   \n",
              "149              5.9             3.0              5.1             1.8   \n",
              "\n",
              "       species  \n",
              "147  virginica  \n",
              "148  virginica  \n",
              "149  virginica  "
            ]
          },
          "metadata": {},
          "output_type": "display_data"
        }
      ],
      "source": [
        "display(dataframe.tail(3))\n"
      ]
    },
    {
      "cell_type": "code",
      "execution_count": null,
      "id": "0f71188e",
      "metadata": {
        "id": "0f71188e",
        "outputId": "8701db16-2dd4-4afa-803e-19621c71c246"
      },
      "outputs": [
        {
          "data": {
            "text/plain": [
              "(150, 5)"
            ]
          },
          "metadata": {},
          "output_type": "display_data"
        }
      ],
      "source": [
        "display(dataframe.shape)"
      ]
    },
    {
      "cell_type": "code",
      "execution_count": null,
      "id": "74329fbf",
      "metadata": {
        "id": "74329fbf",
        "outputId": "76daf658-57ab-4de2-f71e-c589800dbab0"
      },
      "outputs": [
        {
          "data": {
            "text/html": [
              "<div>\n",
              "<style scoped>\n",
              "    .dataframe tbody tr th:only-of-type {\n",
              "        vertical-align: middle;\n",
              "    }\n",
              "\n",
              "    .dataframe tbody tr th {\n",
              "        vertical-align: top;\n",
              "    }\n",
              "\n",
              "    .dataframe thead th {\n",
              "        text-align: right;\n",
              "    }\n",
              "</style>\n",
              "<table border=\"1\" class=\"dataframe\">\n",
              "  <thead>\n",
              "    <tr style=\"text-align: right;\">\n",
              "      <th></th>\n",
              "      <th>sepal_length_cm</th>\n",
              "      <th>sepal_width_cm</th>\n",
              "      <th>petal_length_cm</th>\n",
              "      <th>petal_width_cm</th>\n",
              "    </tr>\n",
              "  </thead>\n",
              "  <tbody>\n",
              "    <tr>\n",
              "      <th>count</th>\n",
              "      <td>150.000000</td>\n",
              "      <td>150.000000</td>\n",
              "      <td>150.000000</td>\n",
              "      <td>150.000000</td>\n",
              "    </tr>\n",
              "    <tr>\n",
              "      <th>mean</th>\n",
              "      <td>5.843333</td>\n",
              "      <td>3.054000</td>\n",
              "      <td>3.758667</td>\n",
              "      <td>1.198667</td>\n",
              "    </tr>\n",
              "    <tr>\n",
              "      <th>std</th>\n",
              "      <td>0.828066</td>\n",
              "      <td>0.433594</td>\n",
              "      <td>1.764420</td>\n",
              "      <td>0.763161</td>\n",
              "    </tr>\n",
              "    <tr>\n",
              "      <th>min</th>\n",
              "      <td>4.300000</td>\n",
              "      <td>2.000000</td>\n",
              "      <td>1.000000</td>\n",
              "      <td>0.100000</td>\n",
              "    </tr>\n",
              "    <tr>\n",
              "      <th>25%</th>\n",
              "      <td>5.100000</td>\n",
              "      <td>2.800000</td>\n",
              "      <td>1.600000</td>\n",
              "      <td>0.300000</td>\n",
              "    </tr>\n",
              "    <tr>\n",
              "      <th>50%</th>\n",
              "      <td>5.800000</td>\n",
              "      <td>3.000000</td>\n",
              "      <td>4.350000</td>\n",
              "      <td>1.300000</td>\n",
              "    </tr>\n",
              "    <tr>\n",
              "      <th>75%</th>\n",
              "      <td>6.400000</td>\n",
              "      <td>3.300000</td>\n",
              "      <td>5.100000</td>\n",
              "      <td>1.800000</td>\n",
              "    </tr>\n",
              "    <tr>\n",
              "      <th>max</th>\n",
              "      <td>7.900000</td>\n",
              "      <td>4.400000</td>\n",
              "      <td>6.900000</td>\n",
              "      <td>2.500000</td>\n",
              "    </tr>\n",
              "  </tbody>\n",
              "</table>\n",
              "</div>"
            ],
            "text/plain": [
              "       sepal_length_cm  sepal_width_cm  petal_length_cm  petal_width_cm\n",
              "count       150.000000      150.000000       150.000000      150.000000\n",
              "mean          5.843333        3.054000         3.758667        1.198667\n",
              "std           0.828066        0.433594         1.764420        0.763161\n",
              "min           4.300000        2.000000         1.000000        0.100000\n",
              "25%           5.100000        2.800000         1.600000        0.300000\n",
              "50%           5.800000        3.000000         4.350000        1.300000\n",
              "75%           6.400000        3.300000         5.100000        1.800000\n",
              "max           7.900000        4.400000         6.900000        2.500000"
            ]
          },
          "metadata": {},
          "output_type": "display_data"
        }
      ],
      "source": [
        "display(dataframe.describe())"
      ]
    },
    {
      "cell_type": "code",
      "execution_count": null,
      "id": "9b5349be",
      "metadata": {
        "id": "9b5349be",
        "outputId": "53bbdf34-2845-430e-adab-58246ca0f20b"
      },
      "outputs": [
        {
          "data": {
            "text/html": [
              "<div>\n",
              "<style scoped>\n",
              "    .dataframe tbody tr th:only-of-type {\n",
              "        vertical-align: middle;\n",
              "    }\n",
              "\n",
              "    .dataframe tbody tr th {\n",
              "        vertical-align: top;\n",
              "    }\n",
              "\n",
              "    .dataframe thead th {\n",
              "        text-align: right;\n",
              "    }\n",
              "</style>\n",
              "<table border=\"1\" class=\"dataframe\">\n",
              "  <thead>\n",
              "    <tr style=\"text-align: right;\">\n",
              "      <th></th>\n",
              "      <th>sepal_length_cm</th>\n",
              "      <th>sepal_width_cm</th>\n",
              "      <th>petal_length_cm</th>\n",
              "      <th>petal_width_cm</th>\n",
              "      <th>species</th>\n",
              "    </tr>\n",
              "  </thead>\n",
              "  <tbody>\n",
              "    <tr>\n",
              "      <th>1</th>\n",
              "      <td>4.9</td>\n",
              "      <td>3.0</td>\n",
              "      <td>1.4</td>\n",
              "      <td>0.2</td>\n",
              "      <td>setosa</td>\n",
              "    </tr>\n",
              "    <tr>\n",
              "      <th>2</th>\n",
              "      <td>4.7</td>\n",
              "      <td>3.2</td>\n",
              "      <td>1.3</td>\n",
              "      <td>0.2</td>\n",
              "      <td>setosa</td>\n",
              "    </tr>\n",
              "    <tr>\n",
              "      <th>3</th>\n",
              "      <td>4.6</td>\n",
              "      <td>3.1</td>\n",
              "      <td>1.5</td>\n",
              "      <td>0.2</td>\n",
              "      <td>setosa</td>\n",
              "    </tr>\n",
              "  </tbody>\n",
              "</table>\n",
              "</div>"
            ],
            "text/plain": [
              "   sepal_length_cm  sepal_width_cm  petal_length_cm  petal_width_cm species\n",
              "1              4.9             3.0              1.4             0.2  setosa\n",
              "2              4.7             3.2              1.3             0.2  setosa\n",
              "3              4.6             3.1              1.5             0.2  setosa"
            ]
          },
          "metadata": {},
          "output_type": "display_data"
        }
      ],
      "source": [
        "display(dataframe.iloc[1:4])"
      ]
    },
    {
      "cell_type": "code",
      "execution_count": null,
      "id": "7ee5628a",
      "metadata": {
        "id": "7ee5628a",
        "outputId": "cca37249-67c0-4cfd-c5eb-358dde0652eb"
      },
      "outputs": [
        {
          "data": {
            "text/html": [
              "<div>\n",
              "<style scoped>\n",
              "    .dataframe tbody tr th:only-of-type {\n",
              "        vertical-align: middle;\n",
              "    }\n",
              "\n",
              "    .dataframe tbody tr th {\n",
              "        vertical-align: top;\n",
              "    }\n",
              "\n",
              "    .dataframe thead th {\n",
              "        text-align: right;\n",
              "    }\n",
              "</style>\n",
              "<table border=\"1\" class=\"dataframe\">\n",
              "  <thead>\n",
              "    <tr style=\"text-align: right;\">\n",
              "      <th></th>\n",
              "      <th>sepal_length_cm</th>\n",
              "      <th>sepal_width_cm</th>\n",
              "      <th>petal_length_cm</th>\n",
              "      <th>petal_width_cm</th>\n",
              "      <th>species</th>\n",
              "    </tr>\n",
              "  </thead>\n",
              "  <tbody>\n",
              "    <tr>\n",
              "      <th>0</th>\n",
              "      <td>5.1</td>\n",
              "      <td>3.5</td>\n",
              "      <td>1.4</td>\n",
              "      <td>0.2</td>\n",
              "      <td>setosa</td>\n",
              "    </tr>\n",
              "    <tr>\n",
              "      <th>17</th>\n",
              "      <td>5.1</td>\n",
              "      <td>3.5</td>\n",
              "      <td>1.4</td>\n",
              "      <td>0.3</td>\n",
              "      <td>setosa</td>\n",
              "    </tr>\n",
              "    <tr>\n",
              "      <th>19</th>\n",
              "      <td>5.1</td>\n",
              "      <td>3.8</td>\n",
              "      <td>1.5</td>\n",
              "      <td>0.3</td>\n",
              "      <td>setosa</td>\n",
              "    </tr>\n",
              "  </tbody>\n",
              "</table>\n",
              "</div>"
            ],
            "text/plain": [
              "    sepal_length_cm  sepal_width_cm  petal_length_cm  petal_width_cm species\n",
              "0               5.1             3.5              1.4             0.2  setosa\n",
              "17              5.1             3.5              1.4             0.3  setosa\n",
              "19              5.1             3.8              1.5             0.3  setosa"
            ]
          },
          "execution_count": 59,
          "metadata": {},
          "output_type": "execute_result"
        }
      ],
      "source": [
        "dataframe[dataframe['sepal_length_cm'] == 5.1].head(3)"
      ]
    },
    {
      "cell_type": "markdown",
      "id": "c532e83b",
      "metadata": {
        "id": "c532e83b"
      },
      "source": [
        "<h1>3.1. Теоретический материал – Работа с числовыми данными</h1>\n",
        "<p>Количественные данные что-то измеряют – будь то размер класса,\n",
        "ежемесячные продажи или оценки учащихся. Естественным способом\n",
        "представления этих величин является численным (например, 150 студентов,\n",
        "$529 392 продаж). </br>\n",
        "Нормализация данных — это общепринятая задача предобработки в\n",
        "машинном обучении. Многие алгоритмы предполагают, что все признаки\n",
        "находятся в единой шкале, как правило, от 0 до 1 или от -1 до 1.</br>\n",
        "Существует множество способов нормализации значений признаков,\n",
        "чтобы масштабировать их к единому диапазону и использовать в различных\n",
        "моделях машинного обучения. В зависимости от используемой функции, их\n",
        "можно разделить на 2 большие группы: линейные и нелинейные. При\n",
        "нелинейной нормализации в расчетных соотношениях используются\n",
        "функции логистической сигмоиды или гиперболического тангенса. В\n",
        "линейной нормализации изменение переменных осуществляется\n",
        "пропорционально, по линейному закону.</br>\n",
        "На практике наиболее распространены следующие методы\n",
        "нормализации признаков:</br>\n",
        "- Минимакс – линейное преобразование данных в диапазоне [0..1], где\n",
        "минимальное и максимальное масштабируемые значения\n",
        "соответствуют 0 и 1 соответственно;</br>\n",
        "- Z-масштабирование данных на основе среднего значения и\n",
        "стандартного отклонения: производят деление разницы между\n",
        "переменной и средним значением на стандартное отклонение.</br>\n",
        "При масштабировании данных мы будем использовать одну из\n",
        "популярных библиотек машинного обучения Scikit-learn. Библиотека\n",
        "содержит пакет sklearn.preprocessing, который предоставляет широкие\n",
        "возможности для нормализации данных. Следует отметить, что в целом\n",
        "алгоритмы обучения выигрывают от стандартизации набора данных.</p>\n",
        "\n",
        "<h1> 3.2.1 Пример </h1>\n",
        "<p>Прошкалируйте числовой признак в диапазон между двумя значениями.</p>"
      ]
    },
    {
      "cell_type": "code",
      "execution_count": null,
      "id": "8f5fe2a2",
      "metadata": {
        "id": "8f5fe2a2",
        "outputId": "f7d60fbf-1f47-4cc9-bd65-e9dca7a5065f"
      },
      "outputs": [
        {
          "data": {
            "text/plain": [
              "array([[0.08951033],\n",
              "       [0.        ],\n",
              "       [0.17991914],\n",
              "       [0.20249326],\n",
              "       [1.        ]])"
            ]
          },
          "execution_count": 60,
          "metadata": {},
          "output_type": "execute_result"
        }
      ],
      "source": [
        "import numpy as np\n",
        "from sklearn import preprocessing\n",
        "feature = np.array([[-10.5], [-90.2], [70], [90.1], [800.2]])\n",
        "minmax_scale = preprocessing.MinMaxScaler(feature_range = (0, 1))\n",
        "scaled_feature = minmax_scale.fit_transform(feature)\n",
        "scaled_feature"
      ]
    },
    {
      "cell_type": "markdown",
      "id": "0d4cede5",
      "metadata": {
        "id": "0d4cede5"
      },
      "source": [
        "<h1>3.2.2 Пример </h1>\n",
        "<p>Преобразуйте признак, чтобы он имел среднее значение 0 и стандартное\n",
        "отклонение 1.</p>"
      ]
    },
    {
      "cell_type": "code",
      "execution_count": null,
      "id": "dd93c409",
      "metadata": {
        "id": "dd93c409",
        "outputId": "ccdfe4a2-e5d4-43ca-e929-d6825e1fcd9e"
      },
      "outputs": [
        {
          "name": "stdout",
          "output_type": "stream",
          "text": [
            "Среднее:  0\n",
            "Стандартное отклонение: 1.0\n"
          ]
        },
        {
          "data": {
            "text/plain": [
              "array([[-0.76069155],\n",
              "       [-0.5416716 ],\n",
              "       [-0.35000521],\n",
              "       [-0.32278841],\n",
              "       [ 1.97515676]])"
            ]
          },
          "execution_count": 61,
          "metadata": {},
          "output_type": "execute_result"
        }
      ],
      "source": [
        "import numpy as np\n",
        "from sklearn import preprocessing\n",
        "x = np.array([[-1000.9], [-200.2], [500.5], [600.0], [9000.9]])\n",
        "scaler = preprocessing.StandardScaler()\n",
        "standardized = scaler.fit_transform(x)\n",
        "print(\"Среднее: \", round(standardized.mean()))\n",
        "print(\"Стандартное отклонение:\", standardized.std())\n",
        "standardized"
      ]
    },
    {
      "cell_type": "markdown",
      "id": "2e53e48b",
      "metadata": {
        "id": "2e53e48b"
      },
      "source": [
        "<h1>3.2.3 Пример </h1>\n",
        "<p>Дан фрейм данных </br>\n",
        "dfTest = pd.DataFrame({'A':[14.00,90.20,90.95,96.27,91.21], </br>\n",
        " 'B':[103.02,107.26,110.35,114.23,114.68], </br>\n",
        " 'C':['big','small','big','small','small']}) </br>\n",
        "Необходимо масштабировать его числовые столбцы.</p>"
      ]
    },
    {
      "cell_type": "code",
      "execution_count": null,
      "id": "ce949e94",
      "metadata": {
        "id": "ce949e94",
        "outputId": "ed24f60d-892d-42de-eaa5-802e72ce42b4"
      },
      "outputs": [
        {
          "data": {
            "text/html": [
              "<div>\n",
              "<style scoped>\n",
              "    .dataframe tbody tr th:only-of-type {\n",
              "        vertical-align: middle;\n",
              "    }\n",
              "\n",
              "    .dataframe tbody tr th {\n",
              "        vertical-align: top;\n",
              "    }\n",
              "\n",
              "    .dataframe thead th {\n",
              "        text-align: right;\n",
              "    }\n",
              "</style>\n",
              "<table border=\"1\" class=\"dataframe\">\n",
              "  <thead>\n",
              "    <tr style=\"text-align: right;\">\n",
              "      <th></th>\n",
              "      <th>A</th>\n",
              "      <th>B</th>\n",
              "      <th>C</th>\n",
              "    </tr>\n",
              "  </thead>\n",
              "  <tbody>\n",
              "    <tr>\n",
              "      <th>0</th>\n",
              "      <td>0.000000</td>\n",
              "      <td>0.000000</td>\n",
              "      <td>big</td>\n",
              "    </tr>\n",
              "    <tr>\n",
              "      <th>1</th>\n",
              "      <td>0.926219</td>\n",
              "      <td>0.363636</td>\n",
              "      <td>small</td>\n",
              "    </tr>\n",
              "    <tr>\n",
              "      <th>2</th>\n",
              "      <td>0.935335</td>\n",
              "      <td>0.628645</td>\n",
              "      <td>big</td>\n",
              "    </tr>\n",
              "    <tr>\n",
              "      <th>3</th>\n",
              "      <td>1.000000</td>\n",
              "      <td>0.961407</td>\n",
              "      <td>small</td>\n",
              "    </tr>\n",
              "    <tr>\n",
              "      <th>4</th>\n",
              "      <td>0.938495</td>\n",
              "      <td>1.000000</td>\n",
              "      <td>small</td>\n",
              "    </tr>\n",
              "  </tbody>\n",
              "</table>\n",
              "</div>"
            ],
            "text/plain": [
              "          A         B      C\n",
              "0  0.000000  0.000000    big\n",
              "1  0.926219  0.363636  small\n",
              "2  0.935335  0.628645    big\n",
              "3  1.000000  0.961407  small\n",
              "4  0.938495  1.000000  small"
            ]
          },
          "execution_count": 62,
          "metadata": {},
          "output_type": "execute_result"
        }
      ],
      "source": [
        "import pandas as pd\n",
        "from sklearn.preprocessing import MinMaxScaler\n",
        "scaler = MinMaxScaler()\n",
        "dfTest = pd.DataFrame({ 'A': [14.00, 90.20, 90.95, 96.27, 91.21],\n",
        "                        'B': [103.02, 107.26, 110.35, 114.23, 114.68],\n",
        "                        'C': ['big', 'small', 'big', 'small', 'small']})\n",
        "dfTest[['A', 'B']] = scaler.fit_transform(dfTest[['A', 'B']])\n",
        "dfTest"
      ]
    },
    {
      "cell_type": "markdown",
      "id": "ee6beb7f",
      "metadata": {
        "id": "ee6beb7f"
      },
      "source": [
        "<h1>3.3.2 Задание </h1>\n",
        "<p>Загрузить фрейм данных по ссылке:\n",
        "https://raw.githubusercontent.com/akmand/datasets/master/iris.csv.\n",
        "Необходимо выполнить нормализацию первого числового признака\n",
        "(sepal_length_cm) с использованием минимаксного преобразования, а\n",
        "второго (sepal_width_cm) с задействованием z-масштабирования.</p>"
      ]
    },
    {
      "cell_type": "code",
      "execution_count": null,
      "id": "1ec4326a",
      "metadata": {
        "id": "1ec4326a",
        "outputId": "70ad21c1-f299-478b-8079-10f9389f075e"
      },
      "outputs": [
        {
          "data": {
            "text/html": [
              "<div>\n",
              "<style scoped>\n",
              "    .dataframe tbody tr th:only-of-type {\n",
              "        vertical-align: middle;\n",
              "    }\n",
              "\n",
              "    .dataframe tbody tr th {\n",
              "        vertical-align: top;\n",
              "    }\n",
              "\n",
              "    .dataframe thead th {\n",
              "        text-align: right;\n",
              "    }\n",
              "</style>\n",
              "<table border=\"1\" class=\"dataframe\">\n",
              "  <thead>\n",
              "    <tr style=\"text-align: right;\">\n",
              "      <th></th>\n",
              "      <th>sepal_length_cm</th>\n",
              "      <th>sepal_width_cm</th>\n",
              "      <th>petal_length_cm</th>\n",
              "      <th>petal_width_cm</th>\n",
              "      <th>species</th>\n",
              "    </tr>\n",
              "  </thead>\n",
              "  <tbody>\n",
              "    <tr>\n",
              "      <th>0</th>\n",
              "      <td>0.222222</td>\n",
              "      <td>1.032057</td>\n",
              "      <td>1.4</td>\n",
              "      <td>0.2</td>\n",
              "      <td>setosa</td>\n",
              "    </tr>\n",
              "    <tr>\n",
              "      <th>1</th>\n",
              "      <td>0.166667</td>\n",
              "      <td>-0.124958</td>\n",
              "      <td>1.4</td>\n",
              "      <td>0.2</td>\n",
              "      <td>setosa</td>\n",
              "    </tr>\n",
              "    <tr>\n",
              "      <th>2</th>\n",
              "      <td>0.111111</td>\n",
              "      <td>0.337848</td>\n",
              "      <td>1.3</td>\n",
              "      <td>0.2</td>\n",
              "      <td>setosa</td>\n",
              "    </tr>\n",
              "    <tr>\n",
              "      <th>3</th>\n",
              "      <td>0.083333</td>\n",
              "      <td>0.106445</td>\n",
              "      <td>1.5</td>\n",
              "      <td>0.2</td>\n",
              "      <td>setosa</td>\n",
              "    </tr>\n",
              "    <tr>\n",
              "      <th>4</th>\n",
              "      <td>0.194444</td>\n",
              "      <td>1.263460</td>\n",
              "      <td>1.4</td>\n",
              "      <td>0.2</td>\n",
              "      <td>setosa</td>\n",
              "    </tr>\n",
              "    <tr>\n",
              "      <th>...</th>\n",
              "      <td>...</td>\n",
              "      <td>...</td>\n",
              "      <td>...</td>\n",
              "      <td>...</td>\n",
              "      <td>...</td>\n",
              "    </tr>\n",
              "    <tr>\n",
              "      <th>145</th>\n",
              "      <td>0.666667</td>\n",
              "      <td>-0.124958</td>\n",
              "      <td>5.2</td>\n",
              "      <td>2.3</td>\n",
              "      <td>virginica</td>\n",
              "    </tr>\n",
              "    <tr>\n",
              "      <th>146</th>\n",
              "      <td>0.555556</td>\n",
              "      <td>-1.281972</td>\n",
              "      <td>5.0</td>\n",
              "      <td>1.9</td>\n",
              "      <td>virginica</td>\n",
              "    </tr>\n",
              "    <tr>\n",
              "      <th>147</th>\n",
              "      <td>0.611111</td>\n",
              "      <td>-0.124958</td>\n",
              "      <td>5.2</td>\n",
              "      <td>2.0</td>\n",
              "      <td>virginica</td>\n",
              "    </tr>\n",
              "    <tr>\n",
              "      <th>148</th>\n",
              "      <td>0.527778</td>\n",
              "      <td>0.800654</td>\n",
              "      <td>5.4</td>\n",
              "      <td>2.3</td>\n",
              "      <td>virginica</td>\n",
              "    </tr>\n",
              "    <tr>\n",
              "      <th>149</th>\n",
              "      <td>0.444444</td>\n",
              "      <td>-0.124958</td>\n",
              "      <td>5.1</td>\n",
              "      <td>1.8</td>\n",
              "      <td>virginica</td>\n",
              "    </tr>\n",
              "  </tbody>\n",
              "</table>\n",
              "<p>150 rows × 5 columns</p>\n",
              "</div>"
            ],
            "text/plain": [
              "     sepal_length_cm  sepal_width_cm  petal_length_cm  petal_width_cm  \\\n",
              "0           0.222222        1.032057              1.4             0.2   \n",
              "1           0.166667       -0.124958              1.4             0.2   \n",
              "2           0.111111        0.337848              1.3             0.2   \n",
              "3           0.083333        0.106445              1.5             0.2   \n",
              "4           0.194444        1.263460              1.4             0.2   \n",
              "..               ...             ...              ...             ...   \n",
              "145         0.666667       -0.124958              5.2             2.3   \n",
              "146         0.555556       -1.281972              5.0             1.9   \n",
              "147         0.611111       -0.124958              5.2             2.0   \n",
              "148         0.527778        0.800654              5.4             2.3   \n",
              "149         0.444444       -0.124958              5.1             1.8   \n",
              "\n",
              "       species  \n",
              "0       setosa  \n",
              "1       setosa  \n",
              "2       setosa  \n",
              "3       setosa  \n",
              "4       setosa  \n",
              "..         ...  \n",
              "145  virginica  \n",
              "146  virginica  \n",
              "147  virginica  \n",
              "148  virginica  \n",
              "149  virginica  \n",
              "\n",
              "[150 rows x 5 columns]"
            ]
          },
          "execution_count": 63,
          "metadata": {},
          "output_type": "execute_result"
        }
      ],
      "source": [
        "import pandas as pd\n",
        "url ='https://raw.githubusercontent.com/akmand/datasets/master/iris.csv'\n",
        "dataframe = pd.read_csv(url)\n",
        "min_max = preprocessing.MinMaxScaler()\n",
        "dataframe[[\"sepal_length_cm\"]] = min_max.fit_transform(dataframe[[\"sepal_length_cm\"]])\n",
        "z = preprocessing.StandardScaler()\n",
        "dataframe[[\"sepal_width_cm\"]] = z.fit_transform(dataframe[[\"sepal_width_cm\"]])\n",
        "dataframe"
      ]
    },
    {
      "cell_type": "code",
      "execution_count": null,
      "id": "9187c997",
      "metadata": {
        "id": "9187c997"
      },
      "outputs": [],
      "source": []
    }
  ],
  "metadata": {
    "kernelspec": {
      "display_name": "Python 3 (ipykernel)",
      "language": "python",
      "name": "python3"
    },
    "language_info": {
      "codemirror_mode": {
        "name": "ipython",
        "version": 3
      },
      "file_extension": ".py",
      "mimetype": "text/x-python",
      "name": "python",
      "nbconvert_exporter": "python",
      "pygments_lexer": "ipython3",
      "version": "3.9.13"
    },
    "vscode": {
      "interpreter": {
        "hash": "3112d3179e16ca12561f062b33321ecc728edf7f5ac3b67339e48a6eecdb1081"
      }
    },
    "colab": {
      "provenance": [],
      "include_colab_link": true
    }
  },
  "nbformat": 4,
  "nbformat_minor": 5
}