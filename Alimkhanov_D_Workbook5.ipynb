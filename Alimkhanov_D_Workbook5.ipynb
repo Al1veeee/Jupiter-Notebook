{
  "cells": [
    {
      "cell_type": "markdown",
      "metadata": {
        "id": "view-in-github",
        "colab_type": "text"
      },
      "source": [
        "<a href=\"https://colab.research.google.com/github/Al1veeee/Jupiter-Notebook/blob/main/Alimkhanov_D_Workbook5.ipynb\" target=\"_parent\"><img src=\"https://colab.research.google.com/assets/colab-badge.svg\" alt=\"Open In Colab\"/></a>"
      ]
    },
    {
      "cell_type": "markdown",
      "id": "b67c3e97",
      "metadata": {
        "id": "b67c3e97"
      },
      "source": [
        "<h1> РАБОЧАЯ ТЕТРАДЬ 5</h1>\n",
        "<h2> Алимханов Дени ИКБО-68-23</h2>"
      ]
    },
    {
      "cell_type": "markdown",
      "id": "3667aa14",
      "metadata": {
        "id": "3667aa14"
      },
      "source": [
        "<h1>1.1. Теоретический материал – Основы объектноориентированного программирования в Python</h1>\n",
        "В предыдущих разделах мы рассматривали в основном традиционное\n",
        "программирование на Python, когда вся программа разбивается (или не\n",
        "разбивается) на отдельные модули, содержащие функции. Такое\n",
        "программирование соответствует парадигме структурного\n",
        "программирования. Само структурное программирование оказалось\n",
        "колоссальным шагом в построении программ. Однако еще большим шагом\n",
        "является парадигма объектно-ориентированного программирования. В этом\n",
        "подходе программа состоит из отдельных классов, которые объединяют в\n",
        "себе как переменные, называемые полями класса, так и функции,\n",
        "называемые методами класса.</br>\n",
        "На самом деле мы уже сталкивались с классами, когда создавали\n",
        "объекты для решения задач классификации и регрессии в Scikit-learn. В\n",
        "данном разделе подробнее познакомимся с основами объектноориентированного программирования (ООП).\n",
        "Объектно-ориентированное программирование состоит из трех китов: </br>\n",
        "− инкапсуляция; </br>\n",
        "− наследование;</br>\n",
        "− полиморфизм.</br>\n",
        "Рассмотрим на примерах эти понятия. Первое - инкапсуляция - это\n",
        "объединение в одном объекте данных и программного кода таким образом,\n",
        "что для внешней работы внутренняя часть объекта может быть скрыта от\n",
        "пользователя. Инкапсуляция может быть реализована не только с помощью\n",
        "классов, но и с помощью модулей, но классы позволяют сделать\n",
        "инкапсуляцию естественным путем. Создадим класс в Python. Для этого\n",
        "необходимо определить класс (новый тип данных) и создать объект,\n",
        "называемый экземпляром класса. Мы рекомендуем имена классов начинать\n",
        "с заглавной буквы \"T\", подчеркивая тем самым, что речь идет о типе данных.</br>\n",
        "Делается это так:</br>\n",
        "class TAnimal:</br>\n",
        " name = \"\"</br>\n",
        " def __init__(self, name):</br>\n",
        " self.name = name</br>\n",
        " def say(self):</br>\n",
        " print(self.name)</br>\n",
        "Теперь создадим экземпляр этого класса. Экземпляр класса\n",
        "представляет собой переменную, с которой можно работать обычным\n",
        "образом.</br>\n",
        "Animal = TAnimal(\"Обезьяна\")</br>\n",
        "Animal.say()</br>\n",
        "Рассмотрим синтаксис Python при создании классов. Все начинается с\n",
        "ключевого слова class. Далее в блоке из отступов мы определяем\n",
        "переменные, которые будем называть полями и функции, которые\n",
        "называются методами. Методы определяются, как обычные функции и\n",
        "могут возвращать значения. Единственное отличие состоит в том, что у всех\n",
        "методов есть обязательный первый параметр, который по традиции всегда\n",
        "называем self в котором передается ссылка на экземпляр класса. Поэтому\n",
        "когда внутри класса метод хочет обратиться к своему полю, то необходимо\n",
        "использовать конструкцию self.name. Заметим, что при вызове методов мы\n",
        "первый параметр не задаем.</br>\n",
        "Далее, у каждого класса есть метод, с именем __init__, который\n",
        "называется конструктором класса. Этот метод вызывается в момент\n",
        "создания экземпляра Animal = TAnimal(\"Обезьяна\"). Конструктор может\n",
        "иметь любое количество параметров. Предположим, что теперь нам нужно\n",
        "сделать класс для описания конкретного животного - кошки. Для это мы\n",
        "используем наследование классов, когда можно определять новые классы,\n",
        "как наследники существующих. При этом новый класс будет иметь все поля\n",
        "и методы наследуемого класса. Вот как это делается:</br>\n",
        "class TAnimal:</br>\n",
        " name = \"\"</br>\n",
        " def __init__(self, name):</br>\n",
        " self.name = name</br>\n",
        " def say(self):</br>\n",
        " print(self.name)</br>\n",
        "class TCat(TAnimal):</br>\n",
        " def may(self):</br>\n",
        " print(\"Мяу!\")</br>\n",
        "Cat = TCat(\"Кошка\")</br>\n",
        "Cat.say()</br>\n",
        "Cat.may()</br>\n",
        "Мы видим, что у наследованного класса сохранился конструктор и\n",
        "метод say. В последнем примере мы выдели, что наследный класс, также как\n",
        "и исходный имеет конструктор, который принимает в качестве параметра -\n",
        "название животного тогда, что в данном случае излишне. Для решения этой\n",
        "проблемы мы воспользуемся объектно-ориентированным механизмом -\n",
        "полиморфизмом. Полиморфизм - это возможность замены методов при\n",
        "наследовании. Сделаем так, чтобы не нужно было передавать в конструкторе\n",
        "название \"Кошка\".</br>\n",
        "class TCat(TAnimal):</br>\n",
        " def __init__(self):</br>\n",
        " super().__init__(\"Кошка\")</br>\n",
        " def may(self):</br>\n",
        " print(\"Мяу!\")</br>\n",
        "Cat = TCat()</br>\n",
        "Cat.say()</br>\n",
        "Cat.may()</br>\n",
        "Результат выполнения этой программы будет аналогичный, но теперь\n",
        "при использовании этого класса нам не нужно передавать в конструкторе\n",
        "никаких параметров. Полиморфное перекрытие методов делается простым\n",
        "объявлением метода (в данном случае конструктора). При этом нельзя\n",
        "можно менять входные параметры. Если в результате написания кода метода\n",
        "возникает необходимость вызвать перекрытый метод, то для этого\n",
        "необходимо использовать функцию super(), которая по сути просто\n",
        "возвращает ссылку на родительский класс. Самое удивительное в\n",
        "полиморфизме, что изменяя метод, он меняется даже когда на него есть\n",
        "ссылки родительского класса. Рассмотрим еще один пример. Пусть у нас\n",
        "есть класс:</br>\n",
        "class TDo:</br>\n",
        " def Operation(self, x, y):</br>\n",
        " return x + y</br>\n",
        " def Run(self):</br>\n",
        " x = int(input(\"Enter x > \"))</br>\n",
        " y = int(input(\"Enter y > \"))</br>\n",
        " z = self.Operation(x, y)</br>\n",
        " print(\"Result = \" + z.__str__()</br>)\n",
        "Do = TDo()</br>\n",
        "Do.Run()</br>\n",
        "С помощью полиморфизма заменим функцию Operation на другую в\n",
        "наследном классе:</br>\n",
        "class TDo2(TDo):</br>\n",
        " def Operation(self, x, y):</br>\n",
        " return x * y </br>"
      ]
    },
    {
      "cell_type": "markdown",
      "id": "751c4647",
      "metadata": {
        "id": "751c4647"
      },
      "source": [
        "<h1>1.2.1 Пример</h1>\n",
        "\n",
        "Необходимо разработать виртуальную модель процесса обучения. В\n",
        "программе должны быть объекты-ученики, учитель, кладезь знаний.\n",
        "Потребуется три класса – \"учитель\", \"ученик\", \"данные\". Учитель и\n",
        "ученик во многом похожи, оба – люди. Значит, их классы могут\n",
        "принадлежать одному надклассу \"человек\". Однако в контексте данной\n",
        "задачи у учителя и ученика вряд ли найдутся общие атрибуты. Определим,\n",
        "что должны уметь объекты для решения задачи \"увеличить знания\":</br>\n",
        "• Ученик должен уметь брать информацию и превращать ее в свои\n",
        "знания.</br>\n",
        "• Учитель должен уметь учить группу учеников.</br>\n",
        "• Данные могут представлять собой список знаний. Элементы будут\n",
        "извлекаться по индексу.</br>"
      ]
    },
    {
      "cell_type": "code",
      "execution_count": null,
      "id": "9ae65428",
      "metadata": {
        "id": "9ae65428",
        "outputId": "3bd87fbe-c31d-4935-9340-45259bf17dab"
      },
      "outputs": [
        {
          "name": "stdout",
          "output_type": "stream",
          "text": [
            "['inheritance']\n",
            "['inheritance', 'class']\n"
          ]
        }
      ],
      "source": [
        "class Data:\n",
        "    def __init__(self, *info):\n",
        "        self.info = list(info)\n",
        "    def __getitem__(self, i):\n",
        "        return self.info[i]\n",
        "\n",
        "class Teacher:\n",
        "    def teach(self, info, *pupil):\n",
        "        for i in pupil:\n",
        "            i.take(info)\n",
        "\n",
        "class Pupil:\n",
        "    def __init__(self):\n",
        "        self.knowledge = []\n",
        "    def take(self, info):\n",
        "        self.knowledge.append(info)\n",
        "\n",
        "lesson = Data('class', 'object', 'inheritance', 'polymorphism', 'encapsulation')\n",
        "marIvanna = Teacher()\n",
        "vasy = Pupil()\n",
        "pety = Pupil()\n",
        "marIvanna.teach(lesson[2], vasy, pety)\n",
        "marIvanna.teach(lesson[0], pety)\n",
        "print(vasy.knowledge)\n",
        "print(pety.knowledge)"
      ]
    },
    {
      "cell_type": "markdown",
      "id": "bfae76cd",
      "metadata": {
        "id": "bfae76cd"
      },
      "source": [
        "<h1>1.2.2 Пример </h1>\n",
        "Напишите программу по следующему описанию. Есть класс \"Воин\". От\n",
        "него создаются два экземпляра-юнита. Каждому устанавливается здоровье\n",
        "в 100 очков. В случайном порядке они бьют друг друга. Тот, кто бьет,\n",
        "здоровья не теряет. У того, кого бьют, оно уменьшается на 20 очков от\n",
        "одного удара. После каждого удара надо выводить сообщение, какой юнит\n",
        "атаковал, и сколько у противника осталось здоровья. Как только у кого-то\n",
        "заканчивается ресурс здоровья, программа завершается сообщением о том,\n",
        "кто одержал победу."
      ]
    },
    {
      "cell_type": "code",
      "execution_count": null,
      "id": "030c21cc",
      "metadata": {
        "id": "030c21cc",
        "outputId": "c2a6154e-96ce-41fa-83cc-6fd9ce7aecbe"
      },
      "outputs": [
        {
          "name": "stdout",
          "output_type": "stream",
          "text": [
            "Enter 1 to attack. Enter 2 to stop program:1\n",
            "Warrior2  has attacked\n",
            "80  left\n",
            "Enter 1 to let some warrior attack:1\n",
            "Warrior2  has attacked\n",
            "60  left\n",
            "Enter 1 to let some warrior attack:1\n",
            "Warrior2  has attacked\n",
            "40  left\n",
            "Enter 1 to let some warrior attack:2\n"
          ]
        }
      ],
      "source": [
        "import random\n",
        "class Warrior:\n",
        "    def __init__ (self, health):\n",
        "        self.health = health\n",
        "\n",
        "    def hit (self, target, target1):\n",
        "        if target.health > 0:\n",
        "            target.health -= 20\n",
        "        if target1 == warrior1:\n",
        "            target1 = \"Warrior1\"\n",
        "        if target1 == warrior2:\n",
        "            target1 = \"Warrior2\"\n",
        "        print(target1, \" has attacked\")\n",
        "        print(target.health, \" left\")\n",
        "        if target.health == 0:\n",
        "            print(target1, \" has won\")\n",
        "warrior1 = Warrior(100)\n",
        "warrior2 = Warrior(100)\n",
        "q = int(input(\"Enter 1 to attack. Enter 2 to stop program:\"))\n",
        "\n",
        "while q != 2:\n",
        "    if q == 1:\n",
        "        j = random.randint(1, 3)\n",
        "        if j % 2 == 0:\n",
        "            warrior1.hit(warrior2, warrior1)\n",
        "            q = int(input(\"Enter 1 to let some warrior attack:\"))\n",
        "        else:\n",
        "            warrior2.hit(warrior1, warrior2)\n",
        "            q = int(input(\"Enter 1 to let some warrior attack:\"))\n",
        "    else:\n",
        "        print(\"Wrong input.\")\n",
        "        break"
      ]
    },
    {
      "cell_type": "markdown",
      "id": "3c102038",
      "metadata": {
        "id": "3c102038"
      },
      "source": [
        "<h1>1.2.3 Пример</h1>\n",
        "Создайте класс по работе с дробями. В классе должна быть\n",
        "реализована следующая функциональность: </br>\n",
        "− сложение дробей;</br>\n",
        "− вычитание дробей;</br>\n",
        "− умножение дробей;</br>\n",
        "− деление дробей.</br>"
      ]
    },
    {
      "cell_type": "code",
      "execution_count": null,
      "id": "3b61d618",
      "metadata": {
        "id": "3b61d618",
        "outputId": "78bf19f4-636f-4448-fac5-98a9d3e5fdd6"
      },
      "outputs": [
        {
          "name": "stdout",
          "output_type": "stream",
          "text": [
            "5/6\n",
            "1/6\n",
            "1/6\n",
            "1/6\n",
            "3/2\n",
            "13/2\n"
          ]
        }
      ],
      "source": [
        "class Rational:\n",
        "    @staticmethod\n",
        "    def gcd(a, b):\n",
        "        while (b != 0):\n",
        "            (a, b) = (b, a % b)\n",
        "        return a\n",
        "\n",
        "    @staticmethod\n",
        "    def sgn(x):\n",
        "        if x > 0:\n",
        "            return 1\n",
        "        elif x < 0:\n",
        "            return -1\n",
        "        else:\n",
        "            return 0\n",
        "\n",
        "    def __init__ (self, n, d):\n",
        "        if n == 0:\n",
        "            self.num = 0\n",
        "            self.den = 1\n",
        "        else:\n",
        "            z = self.sgn(n)*self.sgn(d)\n",
        "            n = abs(n)\n",
        "            d = abs(d)\n",
        "            k = self.gcd(n, d)\n",
        "            self.num = z*n // k\n",
        "            self.den = d // k\n",
        "\n",
        "    def __str__(self):\n",
        "        if self.num == 0:\n",
        "            return \"0\"\n",
        "        else:\n",
        "            return str(self.num) + \"/\" + str(self.den)\n",
        "\n",
        "    def __add__ (self, o):\n",
        "        n1 = self.num\n",
        "        d1 = self.den\n",
        "        if type(o) == int:\n",
        "            n2 = o\n",
        "            d2 = 1\n",
        "        else:\n",
        "            n2 = o.num\n",
        "            d2 = o.den\n",
        "        n = n1 * d2 + n2 * d1\n",
        "        d = d1 * d2\n",
        "        return Rational(n, d)\n",
        "\n",
        "    def __radd__ (self, o):\n",
        "        n1 = self.num\n",
        "        d1 = self.den\n",
        "        if type(o) == int:\n",
        "            n2 = o\n",
        "            d2 = 1\n",
        "        else:\n",
        "            n2 = o.num\n",
        "            d2 = o.den\n",
        "        n = n1 * d2 + n2 * d1\n",
        "        d = d1 * d2\n",
        "        return Rational(n, d)\n",
        "\n",
        "    def __sub__ (self, o):\n",
        "        n1 = self.num\n",
        "        d1 = self.den\n",
        "        n2 = o.num\n",
        "        d2 = o.den\n",
        "        n = n1 * d2 - n2 * d1\n",
        "        d = d1 * d2\n",
        "        return Rational(n, d)\n",
        "\n",
        "    def __mul__ (self, o):\n",
        "        n1 = self.num\n",
        "        d1 = self.den\n",
        "        n2 = o.num\n",
        "        d2 = o.den\n",
        "        n = n1 * n2\n",
        "        d = d1 * d2\n",
        "        return Rational(n, d)\n",
        "\n",
        "    def __floordiv__ (self, o):\n",
        "        n1 = self.num\n",
        "        d1 = self.den\n",
        "        n2 = o.num\n",
        "        d2 = o.den\n",
        "        n = n1 * d2\n",
        "        d = d1 * n2\n",
        "        return Rational(n, d)\n",
        "d1 = Rational(1, 2)\n",
        "d2 = Rational(1, 3)\n",
        "d3 = d1 + d2\n",
        "print(d3)\n",
        "d4 = d1 - d2\n",
        "print(d4)\n",
        "d5 = d1 * d2\n",
        "print(d5)\n",
        "d6 = d1 * d2\n",
        "print(d6)\n",
        "d7 = d1 // d2\n",
        "print(d7)\n",
        "d8 = 6 + d1\n",
        "print(d8)"
      ]
    },
    {
      "cell_type": "markdown",
      "id": "6cf287b8",
      "metadata": {
        "id": "6cf287b8"
      },
      "source": [
        "<h1>Задание </h1>\n",
        "Создайте класс по работе с тригонометрическими функциями. В классе\n",
        "должны быть реализованы функции вычисления: </br>\n",
        "− косинуса;</br>\n",
        "− синуса;</br>\n",
        "− тангенса;</br>\n",
        "− арксинуса;</br>\n",
        "− арккосинуса;</br>\n",
        "− арктангенса;</br>\n",
        "− перевода из градусов в радианы.</br>"
      ]
    },
    {
      "cell_type": "code",
      "execution_count": null,
      "id": "8e913988",
      "metadata": {
        "id": "8e913988",
        "outputId": "234fdc13-0564-44b1-e6ff-534114ddb7b5"
      },
      "outputs": [
        {
          "name": "stdout",
          "output_type": "stream",
          "text": [
            " Введите операцию:\n",
            " 1.cos \n",
            " 2.sin \n",
            " 3.tan \n",
            " 4.arccos \n",
            " 5.arcsin \n",
            " 6.arctan \n",
            " 7.radian \n",
            " 0.exit\n",
            "1\n",
            "Введите x: 12\n",
            "0.8438539587324921\n",
            "0\n"
          ]
        }
      ],
      "source": [
        "import math\n",
        "class Trigonometria:\n",
        "    def cos(self, x):\n",
        "        print(math.cos(x))\n",
        "\n",
        "    def sin(self, x):\n",
        "        print(math.sin(x))\n",
        "\n",
        "    def tang(self, x):\n",
        "        print(math.tan(x))\n",
        "\n",
        "    def arccos(self, x):\n",
        "        print(math.acos(x))\n",
        "\n",
        "    def arcsin(self, x):\n",
        "        print(math.asin(x))\n",
        "\n",
        "    def arctang(self, x):\n",
        "        print(math.atan(x))\n",
        "\n",
        "    def rad(self, x):\n",
        "        print(math.radians(x))\n",
        "\n",
        "trig = Trigonometria()\n",
        "trig = Trigonometria()\n",
        "print(\" Введите операцию:\\n 1.cos \\n 2.sin \\n 3.tan \\n 4.arccos \\n 5.arcsin \\n 6.arctan \\n 7.radian \\n 0.exit\")\n",
        "q = int(input())\n",
        "while q != 0:\n",
        "    x = int(input(\"Введите x: \"))\n",
        "    if q == 1:\n",
        "        trig.cos(x)\n",
        "    if q == 2:\n",
        "        trig.sin(x)\n",
        "    if q == 3:\n",
        "        trig.tan(x)\n",
        "    if q == 4:\n",
        "        trig.arccos(math.radians(x))\n",
        "    if q == 5:\n",
        "        trig.arcsin(math.radians(x))\n",
        "    if q == 6:\n",
        "        trig.arctan(math.radians(x))\n",
        "    if q == 7:\n",
        "        trig.rad(x)\n",
        "    q = int(input())"
      ]
    },
    {
      "cell_type": "markdown",
      "id": "e5ecce44",
      "metadata": {
        "id": "e5ecce44"
      },
      "source": [
        "<h1>1.2. Теоретический материал – Реализация деревьев в Python</h1>\n",
        "Любое представление графов, естественно, можно использовать для\n",
        "представления деревьев, потому что деревья — это особый вид графов.\n",
        "Однако, деревья играют свою большую роль в алгоритмах, и для них\n",
        "разработано много соответствующих структур и методов. Большинство\n",
        "алгоритмов на деревьях (например, поиск по деревьям) можно\n",
        "рассматривать в терминах теории графов, но специальные структуры\n",
        "данных делают их проще в реализации. </br>\n",
        "Проще всего описать представление дерева с корнем, в котором ребра\n",
        "спускаются вниз от корня. Такие деревья часто отображают иерархическое\n",
        "ветвление данных, где корень отображает все объекты (которые, возможно,\n",
        "хранятся в листьях), а каждый внутренний узел показывает объекты,\n",
        "содержащиеся в дереве, корень которого — этот узел. Это описание можно\n",
        "использовать, представив каждое поддерево списком, содержащим все его\n",
        "поддеревья-потомки. Рассмотрим простое дерево, показанное на рисунке\n",
        "ниже.</br>\n",
        "Мы можем представить это дерево как список списков:</br>\n",
        "T = [[\"a\", \"b\"], [\"c\"], [\"d\", [\"e\", \"f\"]]]</br>\n",
        "print(T[0][1])</br>\n",
        "print(T[2][1][0])</br>\n",
        "Каждый список в сущности является списком потомков каждого из\n",
        "внутренних узлов. Во втором примере мы обращаемся к третьему потомку\n",
        "корня, затем ко второму его потомку и в конце концов — к первому потомку\n",
        "предыдущего узла (этот путь отмечен на рисунке). В ряде случаев возможно\n",
        "заранее определить максимальное число потомков каждого узла. (Например,\n",
        "каждый узел бинарного дерева может иметь до двух потомков). Поэтому\n",
        "можно использовать другие представления, скажем, объекты с отдельным\n",
        "атрибутом для каждого из потомков как в листинге ниже.</br>"
      ]
    },
    {
      "cell_type": "markdown",
      "id": "d5e4cbe5",
      "metadata": {
        "id": "d5e4cbe5"
      },
      "source": [
        "<h1>1.2.1 Пример </h1>\n",
        "Определите класс бинарного дерева и задайте его объекты с отдельным\n",
        "атрибутом для каждого из потомков"
      ]
    },
    {
      "cell_type": "code",
      "execution_count": null,
      "id": "e3e8c349",
      "metadata": {
        "id": "e3e8c349",
        "outputId": "08055a1d-c6f1-41ab-cf3d-2ccde81e6753"
      },
      "outputs": [
        {
          "data": {
            "text/plain": [
              "'c'"
            ]
          },
          "execution_count": 5,
          "metadata": {},
          "output_type": "execute_result"
        }
      ],
      "source": [
        "class Tree:\n",
        "    def __init__ (self, left, right):\n",
        "        self.left = left\n",
        "        self.right = right\n",
        "\n",
        "t = Tree(Tree(\"a\", \"b\"), Tree(\"c\", \"d\"))\n",
        "t.right.left"
      ]
    },
    {
      "cell_type": "markdown",
      "id": "a74bd872",
      "metadata": {
        "id": "a74bd872"
      },
      "source": [
        "<h1>1.2.2 Пример</h1>\n",
        "Для обозначения отсутствующих потомков можно использовать None\n",
        "(в случае если у узла только один потомок). Само собой, можно\n",
        "комбинировать разные методы (например, использовать списки или\n",
        "множества потомков для каждого узла). </br>\n",
        "Распространенный способ реализации деревьев, особенно на языках,\n",
        "не имеющих встроенной поддержки списков, это так называемое\n",
        "представление «первый потомок, следующий брат». В нем каждый узел\n",
        "имеет два «указателя» или атрибута, указывающих на другие узлы, как в\n",
        "бинарном дереве. Однако, первый из этих атрибутов ссылается на первого\n",
        "потомка узла, а второй — на его следующего брата (т.е. узел, имеющий\n",
        "того же родителя, но находящийся правее, — прим. перев). Иными\n",
        "словами, каждый узел дерева имеет указатель на связанный список его\n",
        "потомков, а каждый из этих потомков ссылается на свой собственный\n",
        "аналогичный список. Таким образом, небольшая модификация бинарного\n",
        "дерева даст нам многопутевое дерево, показанное в листинге ниже.\n"
      ]
    },
    {
      "cell_type": "code",
      "execution_count": null,
      "id": "aab10e3d",
      "metadata": {
        "id": "aab10e3d",
        "outputId": "55b33850-7a90-4e7f-e7a0-eb1f229feaa8"
      },
      "outputs": [
        {
          "data": {
            "text/plain": [
              "'c'"
            ]
          },
          "execution_count": 6,
          "metadata": {},
          "output_type": "execute_result"
        }
      ],
      "source": [
        "class Tree:\n",
        "    def __init__ (self, kids, next = None):\n",
        "        self.kids = self.val = kids\n",
        "        self.next = next\n",
        "\n",
        "t = Tree(Tree(\"a\", Tree (\"b\", Tree(\"c\", Tree(\"d\")))))\n",
        "t.kids.next.next.val"
      ]
    },
    {
      "cell_type": "markdown",
      "id": "bed108f1",
      "metadata": {
        "id": "bed108f1"
      },
      "source": [
        "<h1>Задание </h1>\n",
        "Представьте дерево показанное на рисунке с использованием списка из\n",
        "списков. Выведите на печать корень дерева, а также его левое и правое\n",
        "поддеревья."
      ]
    },
    {
      "cell_type": "code",
      "execution_count": null,
      "id": "60911260",
      "metadata": {
        "id": "60911260",
        "outputId": "608f7a42-a478-456f-ed74-d38a300163eb"
      },
      "outputs": [
        {
          "name": "stdout",
          "output_type": "stream",
          "text": [
            "Корень дерева: a\n",
            "Левое поддерево:  ['b', ['d', 'e']]\n",
            "Правое поддерево:  ['c', ['f']]\n"
          ]
        }
      ],
      "source": [
        "T = [\"a\", [\"b\", [\"d\", \"e\"]], [\"c\", [\"f\"]]]\n",
        "print(\"Корень дерева:\", T[0])\n",
        "print(\"Левое поддерево: \", T[1])\n",
        "print(\"Правое поддерево: \", T[2])"
      ]
    },
    {
      "cell_type": "markdown",
      "id": "f10d5cec",
      "metadata": {
        "id": "f10d5cec"
      },
      "source": [
        "<h1>Задание:</h1>\n",
        "Дан класс, описывающий бинарное дерево. </br>\n",
        "class Tree:</br>\n",
        " def __init__(self, data):</br>\n",
        " self.left = None</br>\n",
        " self.right = None</br>\n",
        " self.data = data</br>\n",
        " def PrintTree(self):</br>\n",
        " print(self.data)</br>\n",
        "Реализуйте в классе функцию для вставки нового элемента в дерево по\n",
        "следующим правилам:</br>\n",
        "• Левое поддерево узла содержит только узлы со значениями меньше,\n",
        "чем значение в узле.</br>\n",
        "• Правое поддерево узла содержит только узлы со значениями меньше,\n",
        "чем значение в узле.</br>\n",
        "• Каждое из левого и правого поддеревьев также должно быть\n",
        "бинарным деревом поиска.</br>\n",
        "• Не должно быть повторяющихся узлов.</br>\n",
        "Метод вставки сравнивает значение узла с родительским узлом и решает\n",
        "куда доваить элемент (в левое или правое поддерево). Перепишите, метод\n",
        "PrintTree для печати полной версии дерева."
      ]
    },
    {
      "cell_type": "code",
      "execution_count": null,
      "id": "4b78e63e",
      "metadata": {
        "id": "4b78e63e"
      },
      "outputs": [],
      "source": [
        "class Tree:\n",
        "    def __init__(self, data):\n",
        "        self.left = None\n",
        "        self.right = None\n",
        "        self.data = data\n",
        "\n",
        "    def PrintTree(self):\n",
        "        print(f'height: {self.height()} data: {self.data}')\n",
        "        if self.left is not None:\n",
        "            self.left.PrintTree()\n",
        "        if self.right is not None:\n",
        "           self.right.PrintTree()\n",
        "\n",
        "    def height(self):\n",
        "        if self.left is None:\n",
        "            l_height = 0\n",
        "        else:\n",
        "            l_height = self.left.height()\n",
        "\n",
        "        if self.right is None:\n",
        "            r_height = 0\n",
        "        else:\n",
        "            r_height = self.right.height()\n",
        "        return max(l_height, r_height) + 1\n",
        "\n",
        "    def append_element(self, tree):\n",
        "        if tree.data < self.data:\n",
        "            if self.left is None:\n",
        "                self.left = tree\n",
        "            else:\n",
        "                self.left.append_element(tree)\n",
        "        elif tree.data > self.data:\n",
        "            if self.right is None:\n",
        "                self.right = tree\n",
        "            else:\n",
        "                self.right.append_element(tree)\n",
        "        else:\n",
        "            pass"
      ]
    },
    {
      "cell_type": "code",
      "execution_count": null,
      "id": "5518ffc4",
      "metadata": {
        "id": "5518ffc4",
        "outputId": "aa75d6aa-ab37-46e9-caf6-a089550a8f4d"
      },
      "outputs": [
        {
          "name": "stdout",
          "output_type": "stream",
          "text": [
            "height: 9 data: 23\n",
            "height: 8 data: 3\n",
            "height: 1 data: 1\n",
            "height: 7 data: 6\n",
            "height: 1 data: 4\n",
            "height: 6 data: 9\n",
            "height: 1 data: 7\n",
            "height: 5 data: 12\n",
            "height: 1 data: 10\n",
            "height: 4 data: 15\n",
            "height: 1 data: 13\n",
            "height: 3 data: 18\n",
            "height: 1 data: 16\n",
            "height: 2 data: 21\n",
            "height: 1 data: 19\n",
            "height: 1 data: 22\n",
            "height: 6 data: 24\n",
            "height: 5 data: 27\n",
            "height: 1 data: 25\n",
            "height: 4 data: 30\n",
            "height: 1 data: 28\n",
            "height: 3 data: 33\n",
            "height: 1 data: 31\n",
            "height: 2 data: 36\n",
            "height: 1 data: 34\n",
            "height: 1 data: 37\n"
          ]
        }
      ],
      "source": [
        "tree = Tree(23)\n",
        "\n",
        "for i in range(3, 39, 3):\n",
        "    tree.append_element(Tree(i))\n",
        "\n",
        "for i in range(1, 39, 3):\n",
        "    tree.append_element(Tree(i))\n",
        "\n",
        "tree.PrintTree()"
      ]
    },
    {
      "cell_type": "markdown",
      "id": "5a665862",
      "metadata": {
        "id": "5a665862"
      },
      "source": [
        "<h1>1.3. Теоретический материал – Деревья решений</h1>\n",
        "Дерево решений – это один из наиболее часто и широко используемых\n",
        "алгоритмов контролируемого машинного обучения, который может\n",
        "выполнять как регрессионные, так и классификационные задачи.\n",
        "Использование деревьев решений для прогнозного анализа имеет ряд\n",
        "преимуществ: </br>\n",
        "1. Деревья решений могут быть использованы для\n",
        "прогнозирования как непрерывных, так и дискретных значений, т. е. они\n",
        "хорошо работают как для задач регрессии, так и для задач классификации.</br>\n",
        "2. Они требуют относительно меньших усилий для обучения\n",
        "алгоритма.</br>\n",
        "3. Они могут быть использованы для классификации нелинейно\n",
        "разделимых данных.</br>\n",
        "4. Они очень быстры и эффективны по сравнению с KNN и\n",
        "другими алгоритмами классификации.</br>\n",
        "Решим модельные примеры классификации и регрессии, разобранные\n",
        "в предыдущих раочих тетрадях, но с использованием деревьев принятия\n",
        "решений.</br>"
      ]
    },
    {
      "cell_type": "markdown",
      "id": "a6cccc01",
      "metadata": {
        "id": "a6cccc01"
      },
      "source": [
        "<h1>1.3.1 Пример</h1>\n",
        "Построим дерево решений для задачи классификации, для этого, построим\n",
        "границу решения для каждого класса. В качестве данных будем\n",
        "использовать уже знакомый нам и встроенный в библиотеку sklearn набор\n",
        "данных ирисов Фишера. Импортируем библиотеки, набор данных и\n",
        "посмотрим его характеристики."
      ]
    },
    {
      "cell_type": "code",
      "execution_count": null,
      "id": "d7c04290",
      "metadata": {
        "id": "d7c04290",
        "outputId": "23025604-b9a3-4145-e696-64d366ce1260"
      },
      "outputs": [
        {
          "name": "stdout",
          "output_type": "stream",
          "text": [
            "     sepal_length  sepal_width  petal_length  petal_width    species\n",
            "0             5.1          3.5           1.4          0.2     setosa\n",
            "1             4.9          3.0           1.4          0.2     setosa\n",
            "2             4.7          3.2           1.3          0.2     setosa\n",
            "3             4.6          3.1           1.5          0.2     setosa\n",
            "4             5.0          3.6           1.4          0.2     setosa\n",
            "..            ...          ...           ...          ...        ...\n",
            "145           6.7          3.0           5.2          2.3  virginica\n",
            "146           6.3          2.5           5.0          1.9  virginica\n",
            "147           6.5          3.0           5.2          2.0  virginica\n",
            "148           6.2          3.4           5.4          2.3  virginica\n",
            "149           5.9          3.0           5.1          1.8  virginica\n",
            "\n",
            "[150 rows x 5 columns]\n"
          ]
        }
      ],
      "source": [
        "#1.3.1\n",
        "import pandas as pd\n",
        "import numpy as np\n",
        "import seaborn as sns\n",
        "import matplotlib.pyplot as plt\n",
        "from sklearn.model_selection import train_test_split\n",
        "from sklearn.tree import DecisionTreeClassifier\n",
        "from sklearn import tree\n",
        "from sklearn.metrics import classification_report, confusion_matrix\n",
        "\n",
        "dataset = sns.load_dataset('iris')\n",
        "print(dataset)"
      ]
    },
    {
      "cell_type": "code",
      "execution_count": null,
      "id": "76f2886a",
      "metadata": {
        "id": "76f2886a",
        "outputId": "97d7b9e2-ee9a-4406-acf0-3d88391fa4ad"
      },
      "outputs": [
        {
          "name": "stdout",
          "output_type": "stream",
          "text": [
            "   sepal_length  sepal_width  petal_length  petal_width species\n",
            "0           5.1          3.5           1.4          0.2  setosa\n",
            "1           4.9          3.0           1.4          0.2  setosa\n",
            "2           4.7          3.2           1.3          0.2  setosa\n",
            "3           4.6          3.1           1.5          0.2  setosa\n",
            "4           5.0          3.6           1.4          0.2  setosa\n"
          ]
        }
      ],
      "source": [
        "dataset.shape\n",
        "print(dataset.head())\n"
      ]
    },
    {
      "cell_type": "code",
      "execution_count": null,
      "id": "c78028d5",
      "metadata": {
        "id": "c78028d5",
        "outputId": "76db2fad-c78d-49d3-e22e-7d75610dd7dc"
      },
      "outputs": [
        {
          "data": {
            "text/plain": [
              "((120, 4), (30, 4), (120,), (30,))"
            ]
          },
          "execution_count": 29,
          "metadata": {},
          "output_type": "execute_result"
        }
      ],
      "source": [
        "X_train, X_test, y_train, y_test = train_test_split (\n",
        "    dataset.iloc[:, :-1], #все кроме последнего столбца в признаки\n",
        "    dataset.iloc[:, -1], #последнюю в целевую переменную\n",
        "    test_size = 0.20 #размер тестовой выборки\n",
        ")\n",
        "\n",
        "X_train.shape, X_test.shape, y_train.shape, y_test.shape\n"
      ]
    },
    {
      "cell_type": "code",
      "execution_count": null,
      "id": "19208b60",
      "metadata": {
        "id": "19208b60",
        "outputId": "0b5aee4a-31b8-42e4-9a36-73e162076763"
      },
      "outputs": [
        {
          "name": "stdout",
          "output_type": "stream",
          "text": [
            "     sepal_length  sepal_width  petal_length  petal_width\n",
            "119           6.0          2.2           5.0          1.5\n",
            "27            5.2          3.5           1.5          0.2\n",
            "109           7.2          3.6           6.1          2.5\n",
            "11            4.8          3.4           1.6          0.2\n",
            "21            5.1          3.7           1.5          0.4\n"
          ]
        }
      ],
      "source": [
        "print(X_train.head())"
      ]
    },
    {
      "cell_type": "code",
      "execution_count": null,
      "id": "e08c3671",
      "metadata": {
        "id": "e08c3671",
        "outputId": "7d7a6fac-768a-494b-eece-32c74eac7464"
      },
      "outputs": [
        {
          "name": "stdout",
          "output_type": "stream",
          "text": [
            "119    virginica\n",
            "27        setosa\n",
            "109    virginica\n",
            "11        setosa\n",
            "21        setosa\n",
            "Name: species, dtype: object\n"
          ]
        }
      ],
      "source": [
        "print(y_train.head())"
      ]
    },
    {
      "cell_type": "code",
      "execution_count": null,
      "id": "e1c05fea",
      "metadata": {
        "id": "e1c05fea",
        "outputId": "e430a5eb-a87a-4cb8-d479-f8b388537ffc"
      },
      "outputs": [
        {
          "name": "stdout",
          "output_type": "stream",
          "text": [
            "[Text(0.4, 0.9285714285714286, 'X[2] <= 2.45\\ngini = 0.667\\nsamples = 120\\nvalue = [40, 39, 41]'), Text(0.3, 0.7857142857142857, 'gini = 0.0\\nsamples = 40\\nvalue = [40, 0, 0]'), Text(0.5, 0.7857142857142857, 'X[2] <= 4.75\\ngini = 0.5\\nsamples = 80\\nvalue = [0, 39, 41]'), Text(0.4, 0.6428571428571429, 'gini = 0.0\\nsamples = 35\\nvalue = [0, 35, 0]'), Text(0.6, 0.6428571428571429, 'X[3] <= 1.75\\ngini = 0.162\\nsamples = 45\\nvalue = [0, 4, 41]'), Text(0.4, 0.5, 'X[2] <= 5.35\\ngini = 0.49\\nsamples = 7\\nvalue = [0, 3, 4]'), Text(0.3, 0.35714285714285715, 'X[3] <= 1.55\\ngini = 0.48\\nsamples = 5\\nvalue = [0, 3, 2]'), Text(0.2, 0.21428571428571427, 'X[0] <= 6.55\\ngini = 0.444\\nsamples = 3\\nvalue = [0, 1, 2]'), Text(0.1, 0.07142857142857142, 'gini = 0.0\\nsamples = 2\\nvalue = [0, 0, 2]'), Text(0.3, 0.07142857142857142, 'gini = 0.0\\nsamples = 1\\nvalue = [0, 1, 0]'), Text(0.4, 0.21428571428571427, 'gini = 0.0\\nsamples = 2\\nvalue = [0, 2, 0]'), Text(0.5, 0.35714285714285715, 'gini = 0.0\\nsamples = 2\\nvalue = [0, 0, 2]'), Text(0.8, 0.5, 'X[2] <= 4.85\\ngini = 0.051\\nsamples = 38\\nvalue = [0, 1, 37]'), Text(0.7, 0.35714285714285715, 'X[0] <= 5.95\\ngini = 0.444\\nsamples = 3\\nvalue = [0, 1, 2]'), Text(0.6, 0.21428571428571427, 'gini = 0.0\\nsamples = 1\\nvalue = [0, 1, 0]'), Text(0.8, 0.21428571428571427, 'gini = 0.0\\nsamples = 2\\nvalue = [0, 0, 2]'), Text(0.9, 0.35714285714285715, 'gini = 0.0\\nsamples = 35\\nvalue = [0, 0, 35]')]\n"
          ]
        },
        {
          "data": {
            "image/png": "[encoded data removed]",
            "text/plain": [
              "<Figure size 640x480 with 1 Axes>"
            ]
          },
          "metadata": {},
          "output_type": "display_data"
        }
      ],
      "source": [
        "classifier = DecisionTreeClassifier()\n",
        "classifier.fit(X_train, y_train)\n",
        "\n",
        "print(tree.plot_tree(classifier))"
      ]
    },
    {
      "cell_type": "code",
      "execution_count": null,
      "id": "50eba7fe",
      "metadata": {
        "id": "50eba7fe",
        "outputId": "8d39080c-3802-4259-ce05-28549c8329d3"
      },
      "outputs": [
        {
          "name": "stdout",
          "output_type": "stream",
          "text": [
            "['versicolor' 'virginica' 'setosa' 'setosa' 'versicolor' 'versicolor'\n",
            " 'versicolor' 'virginica' 'setosa' 'setosa' 'versicolor' 'virginica'\n",
            " 'versicolor' 'setosa' 'versicolor' 'virginica' 'versicolor' 'setosa'\n",
            " 'setosa' 'virginica' 'setosa' 'setosa' 'versicolor' 'virginica'\n",
            " 'versicolor' 'virginica' 'setosa' 'versicolor' 'virginica' 'virginica']\n"
          ]
        }
      ],
      "source": [
        "y_pred = classifier.predict(X_test)\n",
        "print(y_pred)"
      ]
    },
    {
      "cell_type": "code",
      "execution_count": null,
      "id": "eef4b690",
      "metadata": {
        "id": "eef4b690",
        "outputId": "d5061718-bc98-4d9d-9467-89a0acbffd14"
      },
      "outputs": [
        {
          "name": "stdout",
          "output_type": "stream",
          "text": [
            "[[10  0  0]\n",
            " [ 0 10  1]\n",
            " [ 0  1  8]]\n",
            "              precision    recall  f1-score   support\n",
            "\n",
            "      setosa       1.00      1.00      1.00        10\n",
            "  versicolor       0.91      0.91      0.91        11\n",
            "   virginica       0.89      0.89      0.89         9\n",
            "\n",
            "    accuracy                           0.93        30\n",
            "   macro avg       0.93      0.93      0.93        30\n",
            "weighted avg       0.93      0.93      0.93        30\n",
            "\n"
          ]
        }
      ],
      "source": [
        "print(confusion_matrix(y_test, y_pred))\n",
        "print(classification_report(y_test, y_pred))"
      ]
    },
    {
      "cell_type": "markdown",
      "id": "0345eaf4",
      "metadata": {
        "id": "0345eaf4"
      },
      "source": [
        "<h1>Задание</h1>\n",
        "Постройте классификатор на основе дерева принятия решений\n",
        "следующего датасета:\n",
        "x = np.array([[-1, -1], [-2, -1], [-3, -2], [1, 1], [2, 1], [3, 2]])\n",
        "target = [0, 0, 0, 1, 1, 1]"
      ]
    },
    {
      "cell_type": "code",
      "execution_count": null,
      "id": "d00f8852",
      "metadata": {
        "id": "d00f8852",
        "outputId": "842ae019-7e5a-4b85-ec0b-795a3edf3ef0"
      },
      "outputs": [
        {
          "name": "stdout",
          "output_type": "stream",
          "text": [
            "   0\n",
            "1  1\n",
            "0 -1\n",
            "1  2\n",
            "1  3\n",
            "1    1\n",
            "0   -1\n",
            "1    1\n",
            "1    2\n",
            "Name: 1, dtype: int32\n",
            "[Text(0.4, 0.8333333333333334, 'X[0] <= 0.0\\ngini = 0.625\\nsamples = 4\\nvalue = [1, 2, 1]'), Text(0.2, 0.5, 'gini = 0.0\\nsamples = 1\\nvalue = [1, 0, 0]'), Text(0.6, 0.5, 'X[0] <= 2.5\\ngini = 0.444\\nsamples = 3\\nvalue = [0, 2, 1]'), Text(0.4, 0.16666666666666666, 'gini = 0.0\\nsamples = 2\\nvalue = [0, 2, 0]'), Text(0.8, 0.16666666666666666, 'gini = 0.0\\nsamples = 1\\nvalue = [0, 0, 1]')]\n",
            "[-1 -1]\n",
            "[[0 1]\n",
            " [0 1]]\n"
          ]
        },
        {
          "data": {
            "image/png": "[encoded data removed]",
            "text/plain": [
              "<Figure size 640x480 with 1 Axes>"
            ]
          },
          "metadata": {},
          "output_type": "display_data"
        }
      ],
      "source": [
        "import pandas as pd\n",
        "import numpy as np\n",
        "import seaborn as sns\n",
        "import matplotlib.pyplot as plt\n",
        "from sklearn.model_selection import train_test_split\n",
        "from sklearn.tree import DecisionTreeClassifier\n",
        "from sklearn import tree\n",
        "from sklearn.metrics import classification_report, confusion_matrix\n",
        "\n",
        "x = np.array([[-1, -1], [-2, -1], [-3, -2], [1, 1], [2, 1], [3, 2]])\n",
        "target = [0, 0, 0, 1, 1, 1]\n",
        "\n",
        "dataset = pd.DataFrame(x, target)\n",
        "\n",
        "X_train, X_test, y_train, y_test = train_test_split (\n",
        "    dataset.iloc[:, :-1],\n",
        "    dataset.iloc[:, -1],\n",
        "    test_size = 0.20\n",
        ")\n",
        "\n",
        "X_train.shape, X_test.shape, y_train.shape, y_test.shape\n",
        "\n",
        "print(X_train.head())\n",
        "print(y_train.head())\n",
        "\n",
        "classifier = DecisionTreeClassifier()\n",
        "classifier.fit(X_train, y_train)\n",
        "\n",
        "print(tree.plot_tree(classifier))\n",
        "\n",
        "y_pred = classifier.predict(X_test)\n",
        "print(y_pred)\n",
        "\n",
        "print(confusion_matrix(y_test, y_pred))"
      ]
    },
    {
      "cell_type": "markdown",
      "id": "c180f594",
      "metadata": {
        "id": "c180f594"
      },
      "source": [
        "<h1>1.4. Теоретический материал – Дерево решений для регрессии</h1>\n",
        "Дерево решений для регрессии </br>\n",
        "Процесс решения регрессионной задачи с деревом решений с\n",
        "помощью Scikit Learn очень похож на процесс классификации. Однако для\n",
        "регрессии мы используем класс DecisionTreeRegressor древовидной\n",
        "библиотеки. Кроме того, оценочные показатели регрессии отличаются от\n",
        "показателей классификации. В остальном процесс почти такой же.</br>\n",
        "Построим регрессию с использованием дерева решений в Python и\n",
        "библиотеки scikit-learn. В качестве исходного набора данных будем\n",
        "использовать зависимость заработной платы от опыта работы из\n",
        "предыдущей тетради:</br>\n",
        "https://raw.githubusercontent.com/AnnaShestova/salary-years-simplelinear-regression/master/Salary_Data.csv"
      ]
    },
    {
      "cell_type": "markdown",
      "id": "3cf783c0",
      "metadata": {
        "id": "3cf783c0"
      },
      "source": [
        "<h1>1.4.1 Пример</h1>\n",
        "Постойте регрессию с использованием дерева решений, реализованного в\n",
        "Python"
      ]
    },
    {
      "cell_type": "code",
      "execution_count": null,
      "id": "1df1a901",
      "metadata": {
        "id": "1df1a901"
      },
      "outputs": [],
      "source": [
        "#1.4.1\n",
        "import pandas as pd\n",
        "import numpy as np\n",
        "import matplotlib.pyplot as plt\n",
        "from sklearn.tree import DecisionTreeRegressor\n",
        "from sklearn import tree\n",
        "from sklearn import metrics\n",
        "\n",
        "url = 'https://raw.githubusercontent.com/AnnaShestova/salary-years-simple-linear-regression/master/Salary_Data.csv'\n",
        "dataset = pd.read_csv(url)\n",
        "print(dataset.head())\n",
        "\n",
        "print(dataset.shape)\n",
        "print(dataset.describe())\n",
        "\n",
        "plt.scatter(dataset['YearsExperience'], dataset['Salary'], color = 'b', label = \"Заработная плата\")\n",
        "plt.xlabel(\"Опыт(лет)\")\n",
        "plt.ylabel(\"Заработная плата\")\n",
        "plt.show()\n",
        "\n",
        "X = dataset.iloc[:, :-1].values\n",
        "y = dataset.iloc[:, 1].values\n",
        "print(X)\n",
        "print(y)\n",
        "\n",
        "X_train, X_test, y_train, y_test = train_test_split(X, y, test_size = 0.2, random_state = 0)\n",
        "regressor = DecisionTreeRegressor()\n",
        "print(regressor.fit(X_train, y_train))\n",
        "\n",
        "tree.plot_tree(regressor)\n",
        "y_pred = regressor.predict(X_test)\n",
        "print(y_pred)\n",
        "\n",
        "df = pd.DataFrame({\"Actual\" : y_test, \"Predicted\" : y_pred})\n",
        "print(df)\n",
        "\n",
        "print(\"Mean Squared Error: \", metrics.mean_squared_error(y_test, y_pred))\n",
        "print(\"Mean Absolute Error: \", metrics.mean_absolute_error(y_test, y_pred))\n",
        "\n",
        "metrics.mean_absolute_error(y_test, y_pred) / np.average(y) * 100"
      ]
    },
    {
      "cell_type": "markdown",
      "id": "942ac4ea",
      "metadata": {
        "id": "942ac4ea"
      },
      "source": [
        "<h1>Задание</h1>\n",
        "Задание. Постройте модель регрессии для данных из предыдущей рабочей\n",
        "тетради.Для примера можно взять потребления газа (в миллионах\n",
        "галлонов) в 48 штатах США или набор данных о качестве красного вина:\n",
        "https://raw.githubusercontent.com/likarajo/petrol_consumption/master/data/pet\n",
        "rol_consumption.csv </br>\n",
        "https://raw.githubusercontent.com/aniruddhachoudhury/Red-WineQuality/master/winequality-red.csv</br>\n",
        "Постройте прогноз. Оцените точность модели</br>"
      ]
    },
    {
      "cell_type": "code",
      "execution_count": null,
      "id": "a200e18f",
      "metadata": {
        "id": "a200e18f"
      },
      "outputs": [],
      "source": [
        "import pandas as pd\n",
        "import numpy as np\n",
        "import matplotlib.pyplot as plt\n",
        "from sklearn.tree import DecisionTreeRegressor\n",
        "from sklearn import tree\n",
        "from sklearn import metrics\n",
        "\n",
        "url = 'https://raw.githubusercontent.com/likarajo/petrol_consumption/master/data/petrol_consumption.csv'\n",
        "dataset = pd.read_csv(url)\n",
        "print(dataset.head())\n",
        "\n",
        "plt.scatter(dataset['Petrol_tax'], dataset['Average_income'], color = 'b', label = \"Заработная плата\")\n",
        "plt.xlabel(\"Налог\")\n",
        "plt.ylabel(\"Средняя цена\")\n",
        "plt.show()\n",
        "\n",
        "X = dataset.iloc[:, :-1].values\n",
        "y = dataset.iloc[:, 1].values\n",
        "\n",
        "X_train, X_test, y_train, y_test = train_test_split(X, y, test_size = 0.2, random_state = 0)\n",
        "regressor = DecisionTreeRegressor()\n",
        "print(regressor.fit(X_train, y_train))\n",
        "\n",
        "tree.plot_tree(regressor)\n",
        "y_pred = regressor.predict(X_test)\n",
        "print(y_pred)\n",
        "\n",
        "df = pd.DataFrame({\"Actual\" : y_test, \"Predicted\" : y_pred})\n",
        "print(df)\n",
        "\n",
        "print(\"Mean Squared Error: \", metrics.mean_squared_error(y_test, y_pred))\n",
        "print(\"Mean Absolute Error: \", metrics.mean_absolute_error(y_test, y_pred))\n",
        "\n",
        "metrics.mean_absolute_error(y_test, y_pred) / np.average(y) * 100"
      ]
    },
    {
      "cell_type": "code",
      "execution_count": null,
      "id": "11bc679b",
      "metadata": {
        "id": "11bc679b"
      },
      "outputs": [],
      "source": []
    }
  ],
  "metadata": {
    "kernelspec": {
      "display_name": "Python 3 (ipykernel)",
      "language": "python",
      "name": "python3"
    },
    "language_info": {
      "codemirror_mode": {
        "name": "ipython",
        "version": 3
      },
      "file_extension": ".py",
      "mimetype": "text/x-python",
      "name": "python",
      "nbconvert_exporter": "python",
      "pygments_lexer": "ipython3",
      "version": "3.9.13"
    },
    "colab": {
      "provenance": [],
      "include_colab_link": true
    }
  },
  "nbformat": 4,
  "nbformat_minor": 5
}